{
  "cells": [
    {
      "cell_type": "code",
      "execution_count": 1,
      "metadata": {
        "colab": {
          "base_uri": "https://localhost:8080/"
        },
        "id": "2ygAwHu7Y3yP",
        "outputId": "e6499037-efa1-431f-8ff7-4eecccdb6d16"
      },
      "outputs": [
        {
          "output_type": "stream",
          "name": "stdout",
          "text": [
            "Collecting pyspark\n",
            "  Downloading pyspark-3.5.1.tar.gz (317.0 MB)\n",
            "\u001b[2K     \u001b[90m━━━━━━━━━━━━━━━━━━━━━━━━━━━━━━━━━━━━━━━━\u001b[0m \u001b[32m317.0/317.0 MB\u001b[0m \u001b[31m3.4 MB/s\u001b[0m eta \u001b[36m0:00:00\u001b[0m\n",
            "\u001b[?25h  Preparing metadata (setup.py) ... \u001b[?25l\u001b[?25hdone\n",
            "Requirement already satisfied: py4j==0.10.9.7 in /usr/local/lib/python3.10/dist-packages (from pyspark) (0.10.9.7)\n",
            "Building wheels for collected packages: pyspark\n",
            "  Building wheel for pyspark (setup.py) ... \u001b[?25l\u001b[?25hdone\n",
            "  Created wheel for pyspark: filename=pyspark-3.5.1-py2.py3-none-any.whl size=317488491 sha256=5c4dcec18912813dfef0ef15a49f15e6fd270c24f166ba06fb1598f87e03ef9c\n",
            "  Stored in directory: /root/.cache/pip/wheels/80/1d/60/2c256ed38dddce2fdd93be545214a63e02fbd8d74fb0b7f3a6\n",
            "Successfully built pyspark\n",
            "Installing collected packages: pyspark\n",
            "Successfully installed pyspark-3.5.1\n"
          ]
        }
      ],
      "source": [
        "!pip install pyspark"
      ]
    },
    {
      "cell_type": "code",
      "execution_count": 2,
      "metadata": {
        "id": "WCJB0ASvew5_"
      },
      "outputs": [],
      "source": [
        "from pyspark.sql import SparkSession\n",
        "from pyspark.sql.functions import col, current_timestamp, date_format, rand, expr\n",
        "from pyspark.sql.functions import to_timestamp, dayofyear, date_format, sum, min, max, count, desc\n",
        "from pyspark.sql.functions import to_date, col\n",
        "\n",
        "# Initializing Spark session\n",
        "spark = SparkSession.builder \\\n",
        "    .appName(\"Generate Semi-Structured Logs\") \\\n",
        "    .getOrCreate()\n",
        "\n",
        "# Generating semi-structured log data\n",
        "num_logs = 10000\n",
        "\n",
        "logs_df = spark.range(0, num_logs) \\\n",
        "    .withColumn('timestamp', current_timestamp()) \\\n",
        "    .withColumn('remote_host', expr(\"concat_ws('.', floor(rand() * 256), floor(rand() * 256), floor(rand() * 256), floor(rand() * 256))\")) \\\n",
        "    .withColumn('request_method', expr(\"CASE WHEN rand() < 0.25 THEN 'GET' WHEN rand() < 0.5 THEN 'POST' WHEN rand() < 0.75 THEN 'PUT' ELSE 'DELETE' END\")) \\\n",
        "    .withColumn('request_endpoint', expr(\"concat('/api/', substring('abcdefghijklmnopqrstuvwxyz0123456789', floor(rand() * 25) + 1, 10))\")) \\\n",
        "    .withColumn('protocol', expr(\"CASE WHEN rand() < 0.5 THEN 'HTTP/1.1' ELSE 'HTTP/2.0' END\")) \\\n",
        "    .withColumn('status_code', expr(\"CASE WHEN rand() < 0.8 THEN 200 WHEN rand() < 0.9 THEN 404 ELSE 500 END\")) \\\n",
        "    .withColumn('content_size', expr(\"floor(rand() * 10000)\"))\n",
        "\n",
        "# Saving the DataFrame as a Parquet file\n",
        "logs_df.write.mode('overwrite').parquet('semi_structured_logs.parquet')\n"
      ]
    },
    {
      "cell_type": "code",
      "execution_count": 3,
      "metadata": {
        "colab": {
          "base_uri": "https://localhost:8080/"
        },
        "id": "c00BHIpZe-9e",
        "outputId": "dd48bdbf-f80c-4d22-bfde-eb351e80b324"
      },
      "outputs": [
        {
          "output_type": "stream",
          "name": "stdout",
          "text": [
            "+---+--------------------------+---------------+--------------+----------------+--------+-----------+------------+\n",
            "|id |timestamp                 |remote_host    |request_method|request_endpoint|protocol|status_code|content_size|\n",
            "+---+--------------------------+---------------+--------------+----------------+--------+-----------+------------+\n",
            "|0  |2024-05-23 22:50:17.663725|240.165.154.114|PUT           |/api/rstuvwxyz0 |HTTP/2.0|200        |1269        |\n",
            "|1  |2024-05-23 22:50:17.663725|99.99.153.79   |POST          |/api/uvwxyz0123 |HTTP/2.0|200        |3166        |\n",
            "|2  |2024-05-23 22:50:17.663725|250.71.119.48  |POST          |/api/ghijklmnop |HTTP/2.0|404        |8960        |\n",
            "|3  |2024-05-23 22:50:17.663725|99.205.146.19  |GET           |/api/stuvwxyz01 |HTTP/2.0|200        |6501        |\n",
            "|4  |2024-05-23 22:50:17.663725|80.137.87.129  |PUT           |/api/efghijklmn |HTTP/1.1|200        |3999        |\n",
            "|5  |2024-05-23 22:50:17.663725|55.149.204.221 |POST          |/api/rstuvwxyz0 |HTTP/1.1|200        |2149        |\n",
            "|6  |2024-05-23 22:50:17.663725|103.204.135.133|PUT           |/api/ghijklmnop |HTTP/1.1|200        |295         |\n",
            "|7  |2024-05-23 22:50:17.663725|53.175.75.175  |PUT           |/api/xyz0123456 |HTTP/1.1|200        |8361        |\n",
            "|8  |2024-05-23 22:50:17.663725|123.142.205.125|POST          |/api/abcdefghij |HTTP/1.1|200        |7503        |\n",
            "|9  |2024-05-23 22:50:17.663725|168.191.240.185|POST          |/api/nopqrstuvw |HTTP/2.0|404        |7329        |\n",
            "+---+--------------------------+---------------+--------------+----------------+--------+-----------+------------+\n",
            "only showing top 10 rows\n",
            "\n"
          ]
        }
      ],
      "source": [
        "# Loading semi-structured logs data\n",
        "logs_df = spark.read.parquet(\"semi_structured_logs.parquet\")\n",
        "\n",
        "# Displaying the DataFrame\n",
        "logs_df.show(10, truncate=False)"
      ]
    },
    {
      "cell_type": "code",
      "execution_count": 4,
      "metadata": {
        "colab": {
          "base_uri": "https://localhost:8080/"
        },
        "id": "L50wlf8AfgaA",
        "outputId": "30441bd4-7ebc-4e88-9098-8799dc597bf0"
      },
      "outputs": [
        {
          "output_type": "stream",
          "name": "stdout",
          "text": [
            "+--------------------------+---+----------+\n",
            "|timestamp                 |day|date      |\n",
            "+--------------------------+---+----------+\n",
            "|2024-05-23 22:50:17.663725|144|2024-05-23|\n",
            "|2024-05-23 22:50:17.663725|144|2024-05-23|\n",
            "|2024-05-23 22:50:17.663725|144|2024-05-23|\n",
            "|2024-05-23 22:50:17.663725|144|2024-05-23|\n",
            "|2024-05-23 22:50:17.663725|144|2024-05-23|\n",
            "|2024-05-23 22:50:17.663725|144|2024-05-23|\n",
            "|2024-05-23 22:50:17.663725|144|2024-05-23|\n",
            "|2024-05-23 22:50:17.663725|144|2024-05-23|\n",
            "|2024-05-23 22:50:17.663725|144|2024-05-23|\n",
            "|2024-05-23 22:50:17.663725|144|2024-05-23|\n",
            "+--------------------------+---+----------+\n",
            "only showing top 10 rows\n",
            "\n"
          ]
        }
      ],
      "source": [
        "# Converting and extracting timestamp information\n",
        "logs_df = logs_df.withColumn('timestamp', to_timestamp('timestamp'))\n",
        "logs_df = logs_df.withColumn('day', dayofyear('timestamp'))\n",
        "logs_df = logs_df.withColumn('date', date_format('timestamp', 'yyyy-MM-dd'))\n",
        "logs_df.select('timestamp', 'day', 'date').show(10, truncate=False)"
      ]
    },
    {
      "cell_type": "code",
      "execution_count": 5,
      "metadata": {
        "colab": {
          "base_uri": "https://localhost:8080/"
        },
        "id": "ywGGvrywf0_9",
        "outputId": "1a300c10-8a12-4889-c65b-feb21a0c3618"
      },
      "outputs": [
        {
          "output_type": "stream",
          "name": "stdout",
          "text": [
            "+----------------+-----+\n",
            "|request_endpoint|count|\n",
            "+----------------+-----+\n",
            "| /api/qrstuvwxyz|  440|\n",
            "| /api/mnopqrstuv|  435|\n",
            "| /api/cdefghijkl|  424|\n",
            "| /api/uvwxyz0123|  417|\n",
            "| /api/efghijklmn|  417|\n",
            "| /api/defghijklm|  417|\n",
            "| /api/pqrstuvwxy|  416|\n",
            "| /api/yz01234567|  409|\n",
            "| /api/vwxyz01234|  407|\n",
            "| /api/tuvwxyz012|  406|\n",
            "+----------------+-----+\n",
            "only showing top 10 rows\n",
            "\n"
          ]
        }
      ],
      "source": [
        "# Calculating statistics related to content size\n",
        "# Top endpoints content\n",
        "top_endpoints = logs_df.groupBy(\"request_endpoint\").count().orderBy(\"count\", ascending=False)\n",
        "top_endpoints.show(10)"
      ]
    },
    {
      "cell_type": "code",
      "execution_count": 6,
      "metadata": {
        "colab": {
          "base_uri": "https://localhost:8080/"
        },
        "id": "mFfSvTjXf3zB",
        "outputId": "56f41d0e-155c-4397-92c0-f8d1714d1543"
      },
      "outputs": [
        {
          "output_type": "stream",
          "name": "stdout",
          "text": [
            "+----------------+------------------+\n",
            "|request_endpoint|total_content_size|\n",
            "+----------------+------------------+\n",
            "| /api/mnopqrstuv|           2207205|\n",
            "| /api/qrstuvwxyz|           2178786|\n",
            "| /api/efghijklmn|           2150369|\n",
            "| /api/defghijklm|           2092927|\n",
            "| /api/cdefghijkl|           2083379|\n",
            "| /api/xyz0123456|           2076025|\n",
            "| /api/yz01234567|           2072820|\n",
            "| /api/tuvwxyz012|           2071670|\n",
            "| /api/vwxyz01234|           2059728|\n",
            "| /api/pqrstuvwxy|           2055175|\n",
            "+----------------+------------------+\n",
            "only showing top 10 rows\n",
            "\n"
          ]
        }
      ],
      "source": [
        "# Top endpoints transferring maximum content\n",
        "top_endpoints_by_content = logs_df.groupBy(\"request_endpoint\").sum(\"content_size\") \\\n",
        "    .orderBy(desc(\"sum(content_size)\")).withColumnRenamed(\"sum(content_size)\", \"total_content_size\")\n",
        "top_endpoints_by_content.show(10)"
      ]
    },
    {
      "cell_type": "code",
      "execution_count": 7,
      "metadata": {
        "colab": {
          "base_uri": "https://localhost:8080/"
        },
        "id": "C7jzHC-Xf-a2",
        "outputId": "db307b5c-d685-400d-b433-eafcd06c9b0a"
      },
      "outputs": [
        {
          "output_type": "stream",
          "name": "stdout",
          "text": [
            "+----------+------------------+\n",
            "|      date|daily_content_size|\n",
            "+----------+------------------+\n",
            "|2024-05-23|          50022447|\n",
            "+----------+------------------+\n",
            "\n"
          ]
        }
      ],
      "source": [
        "# Daily visited content size\n",
        "daily_content_size = logs_df.withColumn(\"date\", to_date(col(\"timestamp\"))).groupBy(\"date\").agg(sum(\"content_size\").alias(\"daily_content_size\")).orderBy(\"date\")\n",
        "daily_content_size.show()"
      ]
    },
    {
      "cell_type": "code",
      "execution_count": 8,
      "metadata": {
        "colab": {
          "base_uri": "https://localhost:8080/"
        },
        "id": "rfrGpq6-gDxf",
        "outputId": "665b4b88-4509-4d90-fa26-d03554c37500"
      },
      "outputs": [
        {
          "output_type": "stream",
          "name": "stdout",
          "text": [
            "+--------+--------+----------+\n",
            "|min_size|max_size|count_size|\n",
            "+--------+--------+----------+\n",
            "|       1|    9999|     10000|\n",
            "+--------+--------+----------+\n",
            "\n"
          ]
        }
      ],
      "source": [
        "# Min, Max and Count of content size\n",
        "content_size_stats = logs_df.agg(min('content_size').alias('min_size'), max('content_size').alias('max_size'), count('content_size').alias('count_size'))\n",
        "content_size_stats.show()"
      ]
    },
    {
      "cell_type": "code",
      "execution_count": 9,
      "metadata": {
        "colab": {
          "base_uri": "https://localhost:8080/"
        },
        "id": "N77CpuHAgMy_",
        "outputId": "df82ad98-f8e0-434b-936e-1ef576b1f159"
      },
      "outputs": [
        {
          "output_type": "stream",
          "name": "stdout",
          "text": [
            "+-----------+-----+\n",
            "|status_code|count|\n",
            "+-----------+-----+\n",
            "|        200| 7955|\n",
            "|        404| 1868|\n",
            "|        500|  177|\n",
            "+-----------+-----+\n",
            "\n"
          ]
        }
      ],
      "source": [
        "# Response Code Analysis\n",
        "response_code_analysis = logs_df.groupBy('status_code').count().orderBy('count', ascending=False)\n",
        "response_code_analysis.show()"
      ]
    },
    {
      "cell_type": "code",
      "execution_count": 10,
      "metadata": {
        "colab": {
          "base_uri": "https://localhost:8080/"
        },
        "id": "G_UP_E7jgVXC",
        "outputId": "616755ac-9603-4f4e-ea98-d8c418bc4b99"
      },
      "outputs": [
        {
          "output_type": "stream",
          "name": "stdout",
          "text": [
            "+---------------+-----+\n",
            "|    remote_host|count|\n",
            "+---------------+-----+\n",
            "| 216.195.84.125|    1|\n",
            "|   97.71.253.35|    1|\n",
            "|   40.15.63.164|    1|\n",
            "|148.220.200.168|    1|\n",
            "| 201.102.231.52|    1|\n",
            "|  80.69.207.137|    1|\n",
            "|    64.31.53.87|    1|\n",
            "|   5.179.143.26|    1|\n",
            "|   254.80.20.55|    1|\n",
            "|  118.159.21.22|    1|\n",
            "+---------------+-----+\n",
            "only showing top 10 rows\n",
            "\n"
          ]
        }
      ],
      "source": [
        "# Frequent Visitors\n",
        "frequent_visitors = logs_df.groupBy(\"remote_host\").count().filter(col(\"count\") >= 1).orderBy(\"count\", ascending=False)\n",
        "frequent_visitors.show(10)"
      ]
    },
    {
      "cell_type": "code",
      "execution_count": 11,
      "metadata": {
        "colab": {
          "base_uri": "https://localhost:8080/"
        },
        "id": "-2DS-d2ygbDR",
        "outputId": "416fb24f-5d3a-4597-b630-12fb2c056faf"
      },
      "outputs": [
        {
          "output_type": "stream",
          "name": "stdout",
          "text": [
            "+-----------+------------+\n",
            "|remote_host|access_count|\n",
            "+-----------+------------+\n",
            "+-----------+------------+\n",
            "\n"
          ]
        }
      ],
      "source": [
        "# Identifying IP addresses accessing the server more than 10 times\n",
        "frequent_ip_addresses = logs_df.groupBy('remote_host').agg(count('*').alias('access_count')).filter('access_count > 10').orderBy(desc('access_count'))\n",
        "frequent_ip_addresses.show()"
      ]
    },
    {
      "cell_type": "code",
      "execution_count": 12,
      "metadata": {
        "colab": {
          "base_uri": "https://localhost:8080/"
        },
        "id": "jzF9tu5Vu8Z3",
        "outputId": "6fa8cadd-3327-4349-f1f5-4d558b9f972c"
      },
      "outputs": [
        {
          "output_type": "stream",
          "name": "stdout",
          "text": [
            "+--------------------------+----------------+\n",
            "|timestamp                 |request_endpoint|\n",
            "+--------------------------+----------------+\n",
            "|2024-05-23 22:50:17.663725|/api/tuvwxyz012 |\n",
            "|2024-05-23 22:50:17.663725|/api/ghijklmnop |\n",
            "|2024-05-23 22:50:17.663725|/api/vwxyz01234 |\n",
            "|2024-05-23 22:50:17.663725|/api/nopqrstuvw |\n",
            "|2024-05-23 22:50:17.663725|/api/mnopqrstuv |\n",
            "|2024-05-23 22:50:17.663725|/api/fghijklmno |\n",
            "|2024-05-23 22:50:17.663725|/api/opqrstuvwx |\n",
            "|2024-05-23 22:50:17.663725|/api/mnopqrstuv |\n",
            "|2024-05-23 22:50:17.663725|/api/fghijklmno |\n",
            "|2024-05-23 22:50:17.663725|/api/cdefghijkl |\n",
            "+--------------------------+----------------+\n",
            "\n"
          ]
        }
      ],
      "source": [
        "# Analyzing bad requests including the top 10 latest 404 requests with their endpoints and time\n",
        "latest_404_requests = logs_df.filter(col(\"status_code\") == 404).orderBy(col(\"timestamp\"),\\\n",
        "                       ascending=False).select(\"timestamp\", \"request_endpoint\").limit(10)\n",
        "latest_404_requests.show(truncate=False)"
      ]
    },
    {
      "cell_type": "code",
      "execution_count": 13,
      "metadata": {
        "colab": {
          "base_uri": "https://localhost:8080/"
        },
        "id": "6FsBLxG6xAWr",
        "outputId": "1b536b79-3da4-42c9-e142-129ab8854fb0"
      },
      "outputs": [
        {
          "output_type": "stream",
          "name": "stdout",
          "text": [
            "Successful Requests: 79.55%\n",
            "Error Requests: 20.45%\n",
            "Anomaly: Low success rate detected\n"
          ]
        }
      ],
      "source": [
        "# Calculating percentage of successful requests\n",
        "total_requests = logs_df.count()\n",
        "successful_requests = logs_df.filter(col(\"status_code\") == 200).count()\n",
        "error_requests = total_requests - successful_requests\n",
        "\n",
        "# Calculating success and error percentages\n",
        "success_percentage = (successful_requests / total_requests) * 100\n",
        "error_percentage = 100 - success_percentage\n",
        "\n",
        "# Defining thresholds for anomaly detection\n",
        "success_threshold = 95  # Threshold for successful requests percentage\n",
        "error_threshold = 5  # Threshold for error requests percentage\n",
        "\n",
        "# Transformation for anomaly detection\n",
        "def detect_anomalies(success_percentage, error_percentage):\n",
        "    if success_percentage < success_threshold:\n",
        "        return \"Anomaly: Low success rate detected\"\n",
        "    elif error_percentage > error_threshold:\n",
        "        return \"Anomaly: High error rate detected\"\n",
        "    else:\n",
        "        return \"No anomalies detected\"\n",
        "\n",
        "# Applying transformation to detect anomalies\n",
        "anomaly_detection_result = detect_anomalies(success_percentage, error_percentage)\n",
        "\n",
        "# Printing analysis results and anomaly detection\n",
        "print(f\"Successful Requests: {success_percentage:.2f}%\")\n",
        "print(f\"Error Requests: {error_percentage:.2f}%\")\n",
        "print(anomaly_detection_result)"
      ]
    }
  ],
  "metadata": {
    "colab": {
      "provenance": []
    },
    "kernelspec": {
      "display_name": "Python 3",
      "name": "python3"
    },
    "language_info": {
      "name": "python"
    }
  },
  "nbformat": 4,
  "nbformat_minor": 0
}