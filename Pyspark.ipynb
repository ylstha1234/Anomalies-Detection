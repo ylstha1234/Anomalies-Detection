{
  "cells": [
    {
      "cell_type": "code",
      "execution_count": null,
      "metadata": {
        "colab": {
          "base_uri": "https://localhost:8080/"
        },
        "id": "2ygAwHu7Y3yP",
        "outputId": "74b67f5d-9b57-43ee-a63e-f394afc62fc2"
      },
      "outputs": [
        {
          "output_type": "stream",
          "name": "stdout",
          "text": [
            "Collecting pyspark\n",
            "  Downloading pyspark-3.5.1.tar.gz (317.0 MB)\n",
            "\u001b[2K     \u001b[90m━━━━━━━━━━━━━━━━━━━━━━━━━━━━━━━━━━━━━━━━\u001b[0m \u001b[32m317.0/317.0 MB\u001b[0m \u001b[31m3.7 MB/s\u001b[0m eta \u001b[36m0:00:00\u001b[0m\n",
            "\u001b[?25h  Preparing metadata (setup.py) ... \u001b[?25l\u001b[?25hdone\n",
            "Requirement already satisfied: py4j==0.10.9.7 in /usr/local/lib/python3.10/dist-packages (from pyspark) (0.10.9.7)\n",
            "Building wheels for collected packages: pyspark\n",
            "  Building wheel for pyspark (setup.py) ... \u001b[?25l\u001b[?25hdone\n",
            "  Created wheel for pyspark: filename=pyspark-3.5.1-py2.py3-none-any.whl size=317488491 sha256=d466aeed90fb071d9ea0f125cd8e13b4e252250ed5f2769865edad585dcbf758\n",
            "  Stored in directory: /root/.cache/pip/wheels/80/1d/60/2c256ed38dddce2fdd93be545214a63e02fbd8d74fb0b7f3a6\n",
            "Successfully built pyspark\n",
            "Installing collected packages: pyspark\n",
            "Successfully installed pyspark-3.5.1\n"
          ]
        }
      ],
      "source": [
        "!pip install pyspark"
      ]
    },
    {
      "cell_type": "code",
      "execution_count": null,
      "metadata": {
        "id": "WCJB0ASvew5_"
      },
      "outputs": [],
      "source": [
        "from pyspark.sql import SparkSession\n",
        "from pyspark.sql.functions import col, current_timestamp, date_format, rand, expr\n",
        "from pyspark.sql.functions import to_timestamp, dayofyear, date_format, sum, min, max, count, desc\n",
        "from pyspark.sql.functions import to_date, col\n",
        "\n",
        "# Initializing Spark session\n",
        "spark = SparkSession.builder \\\n",
        "    .appName(\"Generate Semi-Structured Logs\") \\\n",
        "    .getOrCreate()\n",
        "\n",
        "# Generating semi-structured log data\n",
        "num_logs = 1000000\n",
        "\n",
        "logs_df = spark.range(0, num_logs) \\\n",
        "    .withColumn('timestamp', current_timestamp()) \\\n",
        "    .withColumn('remote_host', expr(\"concat_ws('.', floor(rand() * 256), floor(rand() * 256), floor(rand() * 256), floor(rand() * 256))\")) \\\n",
        "    .withColumn('request_method', expr(\"CASE WHEN rand() < 0.25 THEN 'GET' WHEN rand() < 0.5 THEN 'POST' WHEN rand() < 0.75 THEN 'PUT' ELSE 'DELETE' END\")) \\\n",
        "    .withColumn('request_endpoint', expr(\"concat('/api/', substring('abcdefghijklmnopqrstuvwxyz0123456789', floor(rand() * 25) + 1, 10))\")) \\\n",
        "    .withColumn('protocol', expr(\"CASE WHEN rand() < 0.5 THEN 'HTTP/1.1' ELSE 'HTTP/2.0' END\")) \\\n",
        "    .withColumn('status_code', expr(\"CASE WHEN rand() < 0.8 THEN 200 WHEN rand() < 0.9 THEN 404 ELSE 500 END\")) \\\n",
        "    .withColumn('content_size', expr(\"floor(rand() * 10000)\"))\n",
        "\n",
        "# Saving the DataFrame as a Parquet file\n",
        "logs_df.write.mode('overwrite').parquet('semi_structured_logs.parquet')\n"
      ]
    },
    {
      "cell_type": "code",
      "execution_count": null,
      "metadata": {
        "colab": {
          "base_uri": "https://localhost:8080/"
        },
        "id": "c00BHIpZe-9e",
        "outputId": "58dd9890-5756-4397-8197-d3af1da2e09e"
      },
      "outputs": [
        {
          "output_type": "stream",
          "name": "stdout",
          "text": [
            "+---+--------------------------+---------------+--------------+----------------+--------+-----------+------------+\n",
            "|id |timestamp                 |remote_host    |request_method|request_endpoint|protocol|status_code|content_size|\n",
            "+---+--------------------------+---------------+--------------+----------------+--------+-----------+------------+\n",
            "|0  |2024-05-23 03:36:43.914361|95.248.202.206 |POST          |/api/xyz0123456 |HTTP/1.1|200        |103         |\n",
            "|1  |2024-05-23 03:36:43.914361|64.183.242.35  |PUT           |/api/nopqrstuvw |HTTP/2.0|404        |984         |\n",
            "|2  |2024-05-23 03:36:43.914361|143.243.244.70 |POST          |/api/jklmnopqrs |HTTP/1.1|404        |3125        |\n",
            "|3  |2024-05-23 03:36:43.914361|151.163.97.102 |PUT           |/api/wxyz012345 |HTTP/1.1|200        |7570        |\n",
            "|4  |2024-05-23 03:36:43.914361|96.94.40.254   |GET           |/api/tuvwxyz012 |HTTP/2.0|200        |1972        |\n",
            "|5  |2024-05-23 03:36:43.914361|188.69.206.97  |GET           |/api/mnopqrstuv |HTTP/2.0|200        |1612        |\n",
            "|6  |2024-05-23 03:36:43.914361|25.123.72.42   |POST          |/api/ghijklmnop |HTTP/1.1|200        |6633        |\n",
            "|7  |2024-05-23 03:36:43.914361|38.115.253.139 |DELETE        |/api/hijklmnopq |HTTP/2.0|404        |1835        |\n",
            "|8  |2024-05-23 03:36:43.914361|117.213.158.158|POST          |/api/klmnopqrst |HTTP/1.1|200        |5119        |\n",
            "|9  |2024-05-23 03:36:43.914361|92.245.204.155 |POST          |/api/yz01234567 |HTTP/1.1|404        |7777        |\n",
            "+---+--------------------------+---------------+--------------+----------------+--------+-----------+------------+\n",
            "only showing top 10 rows\n",
            "\n"
          ]
        }
      ],
      "source": [
        "# Loading semi-structured logs data\n",
        "logs_df = spark.read.parquet(\"semi_structured_logs.parquet\")\n",
        "\n",
        "# Displaying the DataFrame\n",
        "logs_df.show(10, truncate=False)"
      ]
    },
    {
      "cell_type": "code",
      "execution_count": null,
      "metadata": {
        "colab": {
          "base_uri": "https://localhost:8080/"
        },
        "id": "L50wlf8AfgaA",
        "outputId": "ceab04a7-9d8f-47aa-cb25-209377f9dc6e"
      },
      "outputs": [
        {
          "output_type": "stream",
          "name": "stdout",
          "text": [
            "+--------------------------+---+----------+\n",
            "|timestamp                 |day|date      |\n",
            "+--------------------------+---+----------+\n",
            "|2024-05-23 03:36:43.914361|144|2024-05-23|\n",
            "|2024-05-23 03:36:43.914361|144|2024-05-23|\n",
            "|2024-05-23 03:36:43.914361|144|2024-05-23|\n",
            "|2024-05-23 03:36:43.914361|144|2024-05-23|\n",
            "|2024-05-23 03:36:43.914361|144|2024-05-23|\n",
            "|2024-05-23 03:36:43.914361|144|2024-05-23|\n",
            "|2024-05-23 03:36:43.914361|144|2024-05-23|\n",
            "|2024-05-23 03:36:43.914361|144|2024-05-23|\n",
            "|2024-05-23 03:36:43.914361|144|2024-05-23|\n",
            "|2024-05-23 03:36:43.914361|144|2024-05-23|\n",
            "+--------------------------+---+----------+\n",
            "only showing top 10 rows\n",
            "\n"
          ]
        }
      ],
      "source": [
        "# Converting and extracting timestamp information\n",
        "logs_df = logs_df.withColumn('timestamp', to_timestamp('timestamp'))\n",
        "logs_df = logs_df.withColumn('day', dayofyear('timestamp'))\n",
        "logs_df = logs_df.withColumn('date', date_format('timestamp', 'yyyy-MM-dd'))\n",
        "logs_df.select('timestamp', 'day', 'date').show(10, truncate=False)"
      ]
    },
    {
      "cell_type": "code",
      "execution_count": null,
      "metadata": {
        "colab": {
          "base_uri": "https://localhost:8080/"
        },
        "id": "ywGGvrywf0_9",
        "outputId": "04e46d0c-87de-40b8-a277-1d5b1da6020a"
      },
      "outputs": [
        {
          "output_type": "stream",
          "name": "stdout",
          "text": [
            "+----------------+-----+\n",
            "|request_endpoint|count|\n",
            "+----------------+-----+\n",
            "| /api/opqrstuvwx|40418|\n",
            "| /api/rstuvwxyz0|40406|\n",
            "| /api/bcdefghijk|40278|\n",
            "| /api/yz01234567|40204|\n",
            "| /api/hijklmnopq|40176|\n",
            "| /api/efghijklmn|40157|\n",
            "| /api/jklmnopqrs|40120|\n",
            "| /api/xyz0123456|40062|\n",
            "| /api/tuvwxyz012|40054|\n",
            "| /api/qrstuvwxyz|40050|\n",
            "+----------------+-----+\n",
            "only showing top 10 rows\n",
            "\n"
          ]
        }
      ],
      "source": [
        "# Calculating statistics related to content size\n",
        "# Top endpoints content\n",
        "top_endpoints = logs_df.groupBy(\"request_endpoint\").count().orderBy(\"count\", ascending=False)\n",
        "top_endpoints.show(10)"
      ]
    },
    {
      "cell_type": "code",
      "execution_count": null,
      "metadata": {
        "colab": {
          "base_uri": "https://localhost:8080/"
        },
        "id": "mFfSvTjXf3zB",
        "outputId": "3298c7f9-6fe5-41ec-fb69-c086916dcddc"
      },
      "outputs": [
        {
          "output_type": "stream",
          "name": "stdout",
          "text": [
            "+----------------+------------------+\n",
            "|request_endpoint|total_content_size|\n",
            "+----------------+------------------+\n",
            "| /api/jklmnopqrs|         202151349|\n",
            "| /api/rstuvwxyz0|         201705725|\n",
            "| /api/bcdefghijk|         201626507|\n",
            "| /api/opqrstuvwx|         201434078|\n",
            "| /api/efghijklmn|         200986721|\n",
            "| /api/tuvwxyz012|         200737050|\n",
            "| /api/yz01234567|         200578404|\n",
            "| /api/hijklmnopq|         200242344|\n",
            "| /api/lmnopqrstu|         200057268|\n",
            "| /api/xyz0123456|         200011341|\n",
            "+----------------+------------------+\n",
            "only showing top 10 rows\n",
            "\n"
          ]
        }
      ],
      "source": [
        "# Top endpoints transferring maximum content\n",
        "top_endpoints_by_content = logs_df.groupBy(\"request_endpoint\").sum(\"content_size\") \\\n",
        "    .orderBy(desc(\"sum(content_size)\")).withColumnRenamed(\"sum(content_size)\", \"total_content_size\")\n",
        "top_endpoints_by_content.show(10)"
      ]
    },
    {
      "cell_type": "code",
      "execution_count": null,
      "metadata": {
        "colab": {
          "base_uri": "https://localhost:8080/"
        },
        "id": "C7jzHC-Xf-a2",
        "outputId": "8d596bcc-cf0f-4f04-c875-e59d7ba3eb92"
      },
      "outputs": [
        {
          "output_type": "stream",
          "name": "stdout",
          "text": [
            "+----------+------------------+\n",
            "|      date|daily_content_size|\n",
            "+----------+------------------+\n",
            "|2024-05-23|        4996661557|\n",
            "+----------+------------------+\n",
            "\n"
          ]
        }
      ],
      "source": [
        "# Daily visited content size\n",
        "daily_content_size = logs_df.withColumn(\"date\", to_date(col(\"timestamp\"))).groupBy(\"date\").agg(sum(\"content_size\").alias(\"daily_content_size\")).orderBy(\"date\")\n",
        "daily_content_size.show()"
      ]
    },
    {
      "cell_type": "code",
      "execution_count": null,
      "metadata": {
        "colab": {
          "base_uri": "https://localhost:8080/"
        },
        "id": "rfrGpq6-gDxf",
        "outputId": "fa476b66-274c-4835-9045-8f1f82adf627"
      },
      "outputs": [
        {
          "output_type": "stream",
          "name": "stdout",
          "text": [
            "+--------+--------+----------+\n",
            "|min_size|max_size|count_size|\n",
            "+--------+--------+----------+\n",
            "|       0|    9999|   1000000|\n",
            "+--------+--------+----------+\n",
            "\n"
          ]
        }
      ],
      "source": [
        "# Min, Max and Count of content size\n",
        "content_size_stats = logs_df.agg(min('content_size').alias('min_size'), max('content_size').alias('max_size'), count('content_size').alias('count_size'))\n",
        "content_size_stats.show()"
      ]
    },
    {
      "cell_type": "code",
      "execution_count": null,
      "metadata": {
        "colab": {
          "base_uri": "https://localhost:8080/"
        },
        "id": "N77CpuHAgMy_",
        "outputId": "b0e5ec92-df2e-41b5-8696-d04bea6e30f4"
      },
      "outputs": [
        {
          "output_type": "stream",
          "name": "stdout",
          "text": [
            "+-----------+------+\n",
            "|status_code| count|\n",
            "+-----------+------+\n",
            "|        200|800121|\n",
            "|        404|179885|\n",
            "|        500| 19994|\n",
            "+-----------+------+\n",
            "\n"
          ]
        }
      ],
      "source": [
        "# Response Code Analysis\n",
        "response_code_analysis = logs_df.groupBy('status_code').count().orderBy('count', ascending=False)\n",
        "response_code_analysis.show()"
      ]
    },
    {
      "cell_type": "code",
      "execution_count": null,
      "metadata": {
        "colab": {
          "base_uri": "https://localhost:8080/"
        },
        "id": "G_UP_E7jgVXC",
        "outputId": "eb7b4124-7a6f-4ccd-b660-2489b2a8ce3a"
      },
      "outputs": [
        {
          "output_type": "stream",
          "name": "stdout",
          "text": [
            "+---------------+-----+\n",
            "|    remote_host|count|\n",
            "+---------------+-----+\n",
            "|    54.92.82.63|    2|\n",
            "|   70.66.149.51|    2|\n",
            "|  76.248.35.128|    2|\n",
            "|    8.27.145.49|    2|\n",
            "|  50.13.107.208|    2|\n",
            "|141.222.124.137|    2|\n",
            "|   15.142.137.0|    2|\n",
            "|   0.17.146.237|    2|\n",
            "| 160.13.250.135|    2|\n",
            "|    115.23.89.6|    2|\n",
            "+---------------+-----+\n",
            "only showing top 10 rows\n",
            "\n"
          ]
        }
      ],
      "source": [
        "# Frequent Visitors\n",
        "frequent_visitors = logs_df.groupBy(\"remote_host\").count().filter(col(\"count\") >= 1).orderBy(\"count\", ascending=False)\n",
        "frequent_visitors.show(10)"
      ]
    },
    {
      "cell_type": "code",
      "execution_count": null,
      "metadata": {
        "colab": {
          "base_uri": "https://localhost:8080/"
        },
        "id": "-2DS-d2ygbDR",
        "outputId": "fb6af6a1-cf36-44b1-fc0f-71d10aaeb096"
      },
      "outputs": [
        {
          "output_type": "stream",
          "name": "stdout",
          "text": [
            "+-----------+------------+\n",
            "|remote_host|access_count|\n",
            "+-----------+------------+\n",
            "+-----------+------------+\n",
            "\n"
          ]
        }
      ],
      "source": [
        "# Identifying IP addresses accessing the server more than 10 times\n",
        "frequent_ip_addresses = logs_df.groupBy('remote_host').agg(count('*').alias('access_count')).filter('access_count > 10').orderBy(desc('access_count'))\n",
        "frequent_ip_addresses.show()"
      ]
    },
    {
      "cell_type": "code",
      "execution_count": null,
      "metadata": {
        "colab": {
          "base_uri": "https://localhost:8080/"
        },
        "id": "jzF9tu5Vu8Z3",
        "outputId": "be7f2bf5-8170-4ce8-bf84-f58b2eb020ef"
      },
      "outputs": [
        {
          "output_type": "stream",
          "name": "stdout",
          "text": [
            "+--------------------------+----------------+\n",
            "|timestamp                 |request_endpoint|\n",
            "+--------------------------+----------------+\n",
            "|2024-05-23 03:36:43.914361|/api/nopqrstuvw |\n",
            "|2024-05-23 03:36:43.914361|/api/ghijklmnop |\n",
            "|2024-05-23 03:36:43.914361|/api/jklmnopqrs |\n",
            "|2024-05-23 03:36:43.914361|/api/yz01234567 |\n",
            "|2024-05-23 03:36:43.914361|/api/hijklmnopq |\n",
            "|2024-05-23 03:36:43.914361|/api/defghijklm |\n",
            "|2024-05-23 03:36:43.914361|/api/yz01234567 |\n",
            "|2024-05-23 03:36:43.914361|/api/xyz0123456 |\n",
            "|2024-05-23 03:36:43.914361|/api/nopqrstuvw |\n",
            "|2024-05-23 03:36:43.914361|/api/jklmnopqrs |\n",
            "+--------------------------+----------------+\n",
            "\n"
          ]
        }
      ],
      "source": [
        "# Analyzing bad requests including the top 10 latest 404 requests with their endpoints and time\n",
        "latest_404_requests = logs_df.filter(col(\"status_code\") == 404).orderBy(col(\"timestamp\"),\\\n",
        "                       ascending=False).select(\"timestamp\", \"request_endpoint\").limit(10)\n",
        "latest_404_requests.show(truncate=False)"
      ]
    },
    {
      "cell_type": "code",
      "execution_count": null,
      "metadata": {
        "colab": {
          "base_uri": "https://localhost:8080/"
        },
        "id": "6FsBLxG6xAWr",
        "outputId": "9a849b7c-8d48-4ee1-ec9b-b2deed3057f6"
      },
      "outputs": [
        {
          "output_type": "stream",
          "name": "stdout",
          "text": [
            "Successful Requests: 80.01%\n",
            "Error Requests: 19.99%\n",
            "Anomaly: Low success rate detected\n"
          ]
        }
      ],
      "source": [
        "# Calculating percentage of successful requests\n",
        "total_requests = logs_df.count()\n",
        "successful_requests = logs_df.filter(col(\"status_code\") == 200).count()\n",
        "error_requests = total_requests - successful_requests\n",
        "\n",
        "# Calculating success and error percentages\n",
        "success_percentage = (successful_requests / total_requests) * 100\n",
        "error_percentage = 100 - success_percentage\n",
        "\n",
        "# Defining thresholds for anomaly detection\n",
        "success_threshold = 95  # Threshold for successful requests percentage\n",
        "error_threshold = 5  # Threshold for error requests percentage\n",
        "\n",
        "# Transformation for anomaly detection\n",
        "def detect_anomalies(success_percentage, error_percentage):\n",
        "    if success_percentage < success_threshold:\n",
        "        return \"Anomaly: Low success rate detected\"\n",
        "    elif error_percentage > error_threshold:\n",
        "        return \"Anomaly: High error rate detected\"\n",
        "    else:\n",
        "        return \"No anomalies detected\"\n",
        "\n",
        "# Applying transformation to detect anomalies\n",
        "anomaly_detection_result = detect_anomalies(success_percentage, error_percentage)\n",
        "\n",
        "# Printing analysis results and anomaly detection\n",
        "print(f\"Successful Requests: {success_percentage:.2f}%\")\n",
        "print(f\"Error Requests: {error_percentage:.2f}%\")\n",
        "print(anomaly_detection_result)"
      ]
    }
  ],
  "metadata": {
    "colab": {
      "provenance": []
    },
    "kernelspec": {
      "display_name": "Python 3",
      "name": "python3"
    },
    "language_info": {
      "name": "python"
    }
  },
  "nbformat": 4,
  "nbformat_minor": 0
}