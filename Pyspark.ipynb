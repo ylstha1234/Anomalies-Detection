{
  "cells": [
    {
      "cell_type": "code",
      "execution_count": 1,
      "metadata": {
        "colab": {
          "base_uri": "https://localhost:8080/"
        },
        "id": "2ygAwHu7Y3yP",
        "outputId": "d5b68b1a-da7d-42d2-d0b0-ab45e5c20c50"
      },
      "outputs": [
        {
          "output_type": "stream",
          "name": "stdout",
          "text": [
            "Collecting pyspark\n",
            "  Downloading pyspark-3.5.1.tar.gz (317.0 MB)\n",
            "\u001b[2K     \u001b[90m━━━━━━━━━━━━━━━━━━━━━━━━━━━━━━━━━━━━━━━━\u001b[0m \u001b[32m317.0/317.0 MB\u001b[0m \u001b[31m3.2 MB/s\u001b[0m eta \u001b[36m0:00:00\u001b[0m\n",
            "\u001b[?25h  Preparing metadata (setup.py) ... \u001b[?25l\u001b[?25hdone\n",
            "Requirement already satisfied: py4j==0.10.9.7 in /usr/local/lib/python3.10/dist-packages (from pyspark) (0.10.9.7)\n",
            "Building wheels for collected packages: pyspark\n",
            "  Building wheel for pyspark (setup.py) ... \u001b[?25l\u001b[?25hdone\n",
            "  Created wheel for pyspark: filename=pyspark-3.5.1-py2.py3-none-any.whl size=317488491 sha256=4bdddd4799e2c7fcc5c45f03fb4580010c5905f44de0d822c0524295e7708f04\n",
            "  Stored in directory: /root/.cache/pip/wheels/80/1d/60/2c256ed38dddce2fdd93be545214a63e02fbd8d74fb0b7f3a6\n",
            "Successfully built pyspark\n",
            "Installing collected packages: pyspark\n",
            "Successfully installed pyspark-3.5.1\n"
          ]
        }
      ],
      "source": [
        "!pip install pyspark"
      ]
    },
    {
      "cell_type": "code",
      "execution_count": 2,
      "metadata": {
        "id": "WCJB0ASvew5_"
      },
      "outputs": [],
      "source": [
        "from pyspark.sql import SparkSession\n",
        "from pyspark.sql.functions import col, current_timestamp, date_format, rand, expr\n",
        "from pyspark.sql.functions import to_timestamp, dayofyear, date_format, sum, min, max, count, desc\n",
        "from pyspark.sql.functions import to_date, col\n",
        "\n",
        "# Initializing Spark session\n",
        "spark = SparkSession.builder \\\n",
        "    .appName(\"Generate Semi-Structured Logs\") \\\n",
        "    .getOrCreate()\n",
        "\n",
        "# Generating semi-structured log data\n",
        "num_logs = 100000\n",
        "\n",
        "logs_df = spark.range(0, num_logs) \\\n",
        "    .withColumn('timestamp', current_timestamp()) \\\n",
        "    .withColumn('remote_host', expr(\"concat_ws('.', floor(rand() * 256), floor(rand() * 256), floor(rand() * 256), floor(rand() * 256))\")) \\\n",
        "    .withColumn('request_method', expr(\"CASE WHEN rand() < 0.25 THEN 'GET' WHEN rand() < 0.5 THEN 'POST' WHEN rand() < 0.75 THEN 'PUT' ELSE 'DELETE' END\")) \\\n",
        "    .withColumn('request_endpoint', expr(\"concat('/api/', substring('abcdefghijklmnopqrstuvwxyz0123456789', floor(rand() * 25) + 1, 10))\")) \\\n",
        "    .withColumn('protocol', expr(\"CASE WHEN rand() < 0.5 THEN 'HTTP/1.1' ELSE 'HTTP/2.0' END\")) \\\n",
        "    .withColumn('status_code', expr(\"CASE WHEN rand() < 0.8 THEN 200 WHEN rand() < 0.9 THEN 404 ELSE 500 END\")) \\\n",
        "    .withColumn('content_size', expr(\"floor(rand() * 10000)\"))\n",
        "\n",
        "# Saving the DataFrame as a Parquet file\n",
        "logs_df.write.mode('overwrite').parquet('semi_structured_logs.parquet')\n"
      ]
    },
    {
      "cell_type": "code",
      "execution_count": 3,
      "metadata": {
        "colab": {
          "base_uri": "https://localhost:8080/"
        },
        "id": "c00BHIpZe-9e",
        "outputId": "8167f9f7-4950-41b1-820e-eef8f0dc4c51"
      },
      "outputs": [
        {
          "output_type": "stream",
          "name": "stdout",
          "text": [
            "+-----+-------------------------+--------------+--------------+----------------+--------+-----------+------------+\n",
            "|id   |timestamp                |remote_host   |request_method|request_endpoint|protocol|status_code|content_size|\n",
            "+-----+-------------------------+--------------+--------------+----------------+--------+-----------+------------+\n",
            "|50000|2024-05-24 00:02:07.56136|232.45.190.173|GET           |/api/qrstuvwxyz |HTTP/2.0|200        |2140        |\n",
            "|50001|2024-05-24 00:02:07.56136|225.254.69.125|POST          |/api/klmnopqrst |HTTP/1.1|404        |3537        |\n",
            "|50002|2024-05-24 00:02:07.56136|245.115.63.26 |PUT           |/api/mnopqrstuv |HTTP/2.0|200        |3409        |\n",
            "|50003|2024-05-24 00:02:07.56136|63.141.172.208|PUT           |/api/abcdefghij |HTTP/2.0|200        |9674        |\n",
            "|50004|2024-05-24 00:02:07.56136|57.98.198.51  |PUT           |/api/opqrstuvwx |HTTP/1.1|404        |1553        |\n",
            "|50005|2024-05-24 00:02:07.56136|121.8.112.203 |PUT           |/api/ghijklmnop |HTTP/1.1|200        |5221        |\n",
            "|50006|2024-05-24 00:02:07.56136|7.93.233.49   |PUT           |/api/tuvwxyz012 |HTTP/1.1|200        |9812        |\n",
            "|50007|2024-05-24 00:02:07.56136|41.107.174.136|POST          |/api/stuvwxyz01 |HTTP/1.1|200        |4814        |\n",
            "|50008|2024-05-24 00:02:07.56136|225.0.15.74   |POST          |/api/stuvwxyz01 |HTTP/2.0|200        |9418        |\n",
            "|50009|2024-05-24 00:02:07.56136|197.31.130.157|PUT           |/api/defghijklm |HTTP/2.0|404        |4437        |\n",
            "+-----+-------------------------+--------------+--------------+----------------+--------+-----------+------------+\n",
            "only showing top 10 rows\n",
            "\n"
          ]
        }
      ],
      "source": [
        "# Loading semi-structured logs data\n",
        "logs_df = spark.read.parquet(\"semi_structured_logs.parquet\")\n",
        "\n",
        "# Displaying the DataFrame\n",
        "logs_df.show(10, truncate=False)"
      ]
    },
    {
      "cell_type": "code",
      "execution_count": 4,
      "metadata": {
        "colab": {
          "base_uri": "https://localhost:8080/"
        },
        "id": "L50wlf8AfgaA",
        "outputId": "18767977-edec-450e-fa20-063944d816fd"
      },
      "outputs": [
        {
          "output_type": "stream",
          "name": "stdout",
          "text": [
            "+-------------------------+---+----------+\n",
            "|timestamp                |day|date      |\n",
            "+-------------------------+---+----------+\n",
            "|2024-05-24 00:02:07.56136|145|2024-05-24|\n",
            "|2024-05-24 00:02:07.56136|145|2024-05-24|\n",
            "|2024-05-24 00:02:07.56136|145|2024-05-24|\n",
            "|2024-05-24 00:02:07.56136|145|2024-05-24|\n",
            "|2024-05-24 00:02:07.56136|145|2024-05-24|\n",
            "|2024-05-24 00:02:07.56136|145|2024-05-24|\n",
            "|2024-05-24 00:02:07.56136|145|2024-05-24|\n",
            "|2024-05-24 00:02:07.56136|145|2024-05-24|\n",
            "|2024-05-24 00:02:07.56136|145|2024-05-24|\n",
            "|2024-05-24 00:02:07.56136|145|2024-05-24|\n",
            "+-------------------------+---+----------+\n",
            "only showing top 10 rows\n",
            "\n"
          ]
        }
      ],
      "source": [
        "# Converting and extracting timestamp information\n",
        "logs_df = logs_df.withColumn('timestamp', to_timestamp('timestamp'))\n",
        "logs_df = logs_df.withColumn('day', dayofyear('timestamp'))\n",
        "logs_df = logs_df.withColumn('date', date_format('timestamp', 'yyyy-MM-dd'))\n",
        "logs_df.select('timestamp', 'day', 'date').show(10, truncate=False)"
      ]
    },
    {
      "cell_type": "code",
      "execution_count": 5,
      "metadata": {
        "colab": {
          "base_uri": "https://localhost:8080/"
        },
        "id": "ywGGvrywf0_9",
        "outputId": "495a4191-2dd8-4c02-d3fc-5f4d211b0343"
      },
      "outputs": [
        {
          "output_type": "stream",
          "name": "stdout",
          "text": [
            "+----------------+-----+\n",
            "|request_endpoint|count|\n",
            "+----------------+-----+\n",
            "| /api/vwxyz01234| 4099|\n",
            "| /api/hijklmnopq| 4090|\n",
            "| /api/bcdefghijk| 4084|\n",
            "| /api/abcdefghij| 4081|\n",
            "| /api/uvwxyz0123| 4079|\n",
            "| /api/tuvwxyz012| 4073|\n",
            "| /api/xyz0123456| 4061|\n",
            "| /api/pqrstuvwxy| 4038|\n",
            "| /api/fghijklmno| 4025|\n",
            "| /api/mnopqrstuv| 4017|\n",
            "+----------------+-----+\n",
            "only showing top 10 rows\n",
            "\n"
          ]
        }
      ],
      "source": [
        "# Calculating statistics related to content size\n",
        "# Top endpoints content\n",
        "top_endpoints = logs_df.groupBy(\"request_endpoint\").count().orderBy(\"count\", ascending=False)\n",
        "top_endpoints.show(10)"
      ]
    },
    {
      "cell_type": "code",
      "execution_count": 6,
      "metadata": {
        "colab": {
          "base_uri": "https://localhost:8080/"
        },
        "id": "mFfSvTjXf3zB",
        "outputId": "4011baef-8592-4fc3-e653-655daa9e2aff"
      },
      "outputs": [
        {
          "output_type": "stream",
          "name": "stdout",
          "text": [
            "+----------------+------------------+\n",
            "|request_endpoint|total_content_size|\n",
            "+----------------+------------------+\n",
            "| /api/tuvwxyz012|          20643060|\n",
            "| /api/vwxyz01234|          20612552|\n",
            "| /api/pqrstuvwxy|          20578403|\n",
            "| /api/abcdefghij|          20547548|\n",
            "| /api/bcdefghijk|          20412405|\n",
            "| /api/nopqrstuvw|          20346325|\n",
            "| /api/xyz0123456|          20318454|\n",
            "| /api/hijklmnopq|          20302675|\n",
            "| /api/efghijklmn|          20282253|\n",
            "| /api/uvwxyz0123|          20126540|\n",
            "+----------------+------------------+\n",
            "only showing top 10 rows\n",
            "\n"
          ]
        }
      ],
      "source": [
        "# Top endpoints transferring maximum content\n",
        "top_endpoints_by_content = logs_df.groupBy(\"request_endpoint\").sum(\"content_size\") \\\n",
        "    .orderBy(desc(\"sum(content_size)\")).withColumnRenamed(\"sum(content_size)\", \"total_content_size\")\n",
        "top_endpoints_by_content.show(10)"
      ]
    },
    {
      "cell_type": "code",
      "execution_count": 7,
      "metadata": {
        "colab": {
          "base_uri": "https://localhost:8080/"
        },
        "id": "C7jzHC-Xf-a2",
        "outputId": "a8519310-2c50-437a-ea50-76fec7c0b929"
      },
      "outputs": [
        {
          "output_type": "stream",
          "name": "stdout",
          "text": [
            "+----------+------------------+\n",
            "|      date|daily_content_size|\n",
            "+----------+------------------+\n",
            "|2024-05-24|         498941818|\n",
            "+----------+------------------+\n",
            "\n"
          ]
        }
      ],
      "source": [
        "# Daily visited content size\n",
        "daily_content_size = logs_df.withColumn(\"date\", to_date(col(\"timestamp\"))).groupBy(\"date\").agg(sum(\"content_size\").alias(\"daily_content_size\")).orderBy(\"date\")\n",
        "daily_content_size.show()"
      ]
    },
    {
      "cell_type": "code",
      "execution_count": 8,
      "metadata": {
        "colab": {
          "base_uri": "https://localhost:8080/"
        },
        "id": "rfrGpq6-gDxf",
        "outputId": "aaa706dd-cdc1-4557-9f32-7846beaefc47"
      },
      "outputs": [
        {
          "output_type": "stream",
          "name": "stdout",
          "text": [
            "+--------+--------+----------+\n",
            "|min_size|max_size|count_size|\n",
            "+--------+--------+----------+\n",
            "|       0|    9999|    100000|\n",
            "+--------+--------+----------+\n",
            "\n"
          ]
        }
      ],
      "source": [
        "# Min, Max and Count of content size\n",
        "content_size_stats = logs_df.agg(min('content_size').alias('min_size'), max('content_size').alias('max_size'), count('content_size').alias('count_size'))\n",
        "content_size_stats.show()"
      ]
    },
    {
      "cell_type": "code",
      "execution_count": 9,
      "metadata": {
        "colab": {
          "base_uri": "https://localhost:8080/"
        },
        "id": "N77CpuHAgMy_",
        "outputId": "1d37881b-5fe2-47fa-ff57-048717483ee6"
      },
      "outputs": [
        {
          "output_type": "stream",
          "name": "stdout",
          "text": [
            "+-----------+-----+\n",
            "|status_code|count|\n",
            "+-----------+-----+\n",
            "|        200|80195|\n",
            "|        404|17860|\n",
            "|        500| 1945|\n",
            "+-----------+-----+\n",
            "\n"
          ]
        }
      ],
      "source": [
        "# Response Code Analysis\n",
        "response_code_analysis = logs_df.groupBy('status_code').count().orderBy('count', ascending=False)\n",
        "response_code_analysis.show()"
      ]
    },
    {
      "cell_type": "code",
      "execution_count": 10,
      "metadata": {
        "colab": {
          "base_uri": "https://localhost:8080/"
        },
        "id": "G_UP_E7jgVXC",
        "outputId": "34b744a2-f0e0-47ff-9d57-a762f0af4808"
      },
      "outputs": [
        {
          "output_type": "stream",
          "name": "stdout",
          "text": [
            "+---------------+-----+\n",
            "|    remote_host|count|\n",
            "+---------------+-----+\n",
            "|236.144.138.236|    1|\n",
            "| 135.97.191.247|    1|\n",
            "|142.173.173.225|    1|\n",
            "| 235.34.254.148|    1|\n",
            "|161.201.221.123|    1|\n",
            "| 233.63.198.119|    1|\n",
            "|  56.236.45.247|    1|\n",
            "|  27.62.138.219|    1|\n",
            "|223.255.230.118|    1|\n",
            "|   201.148.1.65|    1|\n",
            "+---------------+-----+\n",
            "only showing top 10 rows\n",
            "\n"
          ]
        }
      ],
      "source": [
        "# Frequent Visitors\n",
        "frequent_visitors = logs_df.groupBy(\"remote_host\").count().filter(col(\"count\") >= 1).orderBy(\"count\", ascending=False)\n",
        "frequent_visitors.show(10)"
      ]
    },
    {
      "cell_type": "code",
      "execution_count": 11,
      "metadata": {
        "colab": {
          "base_uri": "https://localhost:8080/"
        },
        "id": "-2DS-d2ygbDR",
        "outputId": "08380b4f-30dc-417d-9cfb-d2a4c2f24fea"
      },
      "outputs": [
        {
          "output_type": "stream",
          "name": "stdout",
          "text": [
            "+-----------+------------+\n",
            "|remote_host|access_count|\n",
            "+-----------+------------+\n",
            "+-----------+------------+\n",
            "\n"
          ]
        }
      ],
      "source": [
        "# Identifying IP addresses accessing the server more than 10 times\n",
        "frequent_ip_addresses = logs_df.groupBy('remote_host').agg(count('*').alias('access_count')).filter('access_count > 10').orderBy(desc('access_count'))\n",
        "frequent_ip_addresses.show()"
      ]
    },
    {
      "cell_type": "code",
      "execution_count": 12,
      "metadata": {
        "colab": {
          "base_uri": "https://localhost:8080/"
        },
        "id": "jzF9tu5Vu8Z3",
        "outputId": "afd2988c-a88c-40e6-ae1a-7bf28e5d9a89"
      },
      "outputs": [
        {
          "output_type": "stream",
          "name": "stdout",
          "text": [
            "+-------------------------+----------------+\n",
            "|timestamp                |request_endpoint|\n",
            "+-------------------------+----------------+\n",
            "|2024-05-24 00:02:07.56136|/api/cdefghijkl |\n",
            "|2024-05-24 00:02:07.56136|/api/klmnopqrst |\n",
            "|2024-05-24 00:02:07.56136|/api/cdefghijkl |\n",
            "|2024-05-24 00:02:07.56136|/api/opqrstuvwx |\n",
            "|2024-05-24 00:02:07.56136|/api/fghijklmno |\n",
            "|2024-05-24 00:02:07.56136|/api/defghijklm |\n",
            "|2024-05-24 00:02:07.56136|/api/hijklmnopq |\n",
            "|2024-05-24 00:02:07.56136|/api/cdefghijkl |\n",
            "|2024-05-24 00:02:07.56136|/api/hijklmnopq |\n",
            "|2024-05-24 00:02:07.56136|/api/rstuvwxyz0 |\n",
            "+-------------------------+----------------+\n",
            "\n"
          ]
        }
      ],
      "source": [
        "# Analyzing bad requests including the top 10 latest 404 requests with their endpoints and time\n",
        "latest_404_requests = logs_df.filter(col(\"status_code\") == 404).orderBy(col(\"timestamp\"),\\\n",
        "                       ascending=False).select(\"timestamp\", \"request_endpoint\").limit(10)\n",
        "latest_404_requests.show(truncate=False)"
      ]
    },
    {
      "cell_type": "code",
      "execution_count": 13,
      "metadata": {
        "colab": {
          "base_uri": "https://localhost:8080/"
        },
        "id": "6FsBLxG6xAWr",
        "outputId": "9800ad36-91b6-4d93-c4d4-f753aabac622"
      },
      "outputs": [
        {
          "output_type": "stream",
          "name": "stdout",
          "text": [
            "Successful Requests: 80.20%\n",
            "Error Requests: 19.80%\n",
            "Anomaly: Low success rate detected\n"
          ]
        }
      ],
      "source": [
        "# Calculating percentage of successful requests\n",
        "total_requests = logs_df.count()\n",
        "successful_requests = logs_df.filter(col(\"status_code\") == 200).count()\n",
        "error_requests = total_requests - successful_requests\n",
        "\n",
        "# Calculating success and error percentages\n",
        "success_percentage = (successful_requests / total_requests) * 100\n",
        "error_percentage = 100 - success_percentage\n",
        "\n",
        "# Defining thresholds for anomaly detection\n",
        "success_threshold = 95  # Threshold for successful requests percentage\n",
        "error_threshold = 5  # Threshold for error requests percentage\n",
        "\n",
        "# Transformation for anomaly detection\n",
        "def detect_anomalies(success_percentage, error_percentage):\n",
        "    if success_percentage < success_threshold:\n",
        "        return \"Anomaly: Low success rate detected\"\n",
        "    elif error_percentage > error_threshold:\n",
        "        return \"Anomaly: High error rate detected\"\n",
        "    else:\n",
        "        return \"No anomalies detected\"\n",
        "\n",
        "# Applying transformation to detect anomalies\n",
        "anomaly_detection_result = detect_anomalies(success_percentage, error_percentage)\n",
        "\n",
        "# Printing analysis results and anomaly detection\n",
        "print(f\"Successful Requests: {success_percentage:.2f}%\")\n",
        "print(f\"Error Requests: {error_percentage:.2f}%\")\n",
        "print(anomaly_detection_result)"
      ]
    },
    {
      "cell_type": "code",
      "source": [
        "spark.stop()\n"
      ],
      "metadata": {
        "id": "zi7RALeTq7j1"
      },
      "execution_count": 14,
      "outputs": []
    }
  ],
  "metadata": {
    "colab": {
      "provenance": []
    },
    "kernelspec": {
      "display_name": "Python 3",
      "name": "python3"
    },
    "language_info": {
      "name": "python"
    }
  },
  "nbformat": 4,
  "nbformat_minor": 0
}