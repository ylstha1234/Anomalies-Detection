{
  "cells": [
    {
      "cell_type": "markdown",
      "metadata": {
        "id": "view-in-github",
        "colab_type": "text"
      },
      "source": [
        "<a href=\"https://colab.research.google.com/github/ylstha1234/anomalies-detection/blob/main/Pyspark.ipynb\" target=\"_parent\"><img src=\"https://colab.research.google.com/assets/colab-badge.svg\" alt=\"Open In Colab\"/></a>"
      ]
    },
    {
      "cell_type": "code",
      "execution_count": null,
      "metadata": {
        "colab": {
          "base_uri": "https://localhost:8080/"
        },
        "id": "2ygAwHu7Y3yP",
        "outputId": "74fa4bde-b295-440a-df51-79107e2dc35c"
      },
      "outputs": [
        {
          "output_type": "stream",
          "name": "stdout",
          "text": [
            "Collecting pyspark\n",
            "  Downloading pyspark-3.5.1.tar.gz (317.0 MB)\n",
            "\u001b[2K     \u001b[90m━━━━━━━━━━━━━━━━━━━━━━━━━━━━━━━━━━━━━━━━\u001b[0m \u001b[32m317.0/317.0 MB\u001b[0m \u001b[31m3.4 MB/s\u001b[0m eta \u001b[36m0:00:00\u001b[0m\n",
            "\u001b[?25h  Preparing metadata (setup.py) ... \u001b[?25l\u001b[?25hdone\n",
            "Requirement already satisfied: py4j==0.10.9.7 in /usr/local/lib/python3.10/dist-packages (from pyspark) (0.10.9.7)\n",
            "Building wheels for collected packages: pyspark\n",
            "  Building wheel for pyspark (setup.py) ... \u001b[?25l\u001b[?25hdone\n",
            "  Created wheel for pyspark: filename=pyspark-3.5.1-py2.py3-none-any.whl size=317488491 sha256=b54603c51feca643d4b0622f1c6a00be760ff69763c12f03045163ed7f0f8b2b\n",
            "  Stored in directory: /root/.cache/pip/wheels/80/1d/60/2c256ed38dddce2fdd93be545214a63e02fbd8d74fb0b7f3a6\n",
            "Successfully built pyspark\n",
            "Installing collected packages: pyspark\n",
            "Successfully installed pyspark-3.5.1\n"
          ]
        }
      ],
      "source": [
        "!pip install pyspark"
      ]
    },
    {
      "cell_type": "code",
      "execution_count": null,
      "metadata": {
        "id": "WCJB0ASvew5_"
      },
      "outputs": [],
      "source": [
        "from pyspark.sql import SparkSession\n",
        "from pyspark.sql.functions import col, current_timestamp, date_format, rand, expr\n",
        "from pyspark.sql.functions import to_timestamp, dayofyear, date_format, sum, min, max, count, desc\n",
        "from pyspark.sql.functions import to_date, col\n",
        "\n",
        "# Initializing Spark session\n",
        "spark = SparkSession.builder \\\n",
        "    .appName(\"Generate Semi-Structured Logs\") \\\n",
        "    .getOrCreate()\n",
        "\n",
        "# Generating semi-structured log data\n",
        "num_logs = 1000000\n",
        "\n",
        "logs_df = spark.range(0, num_logs) \\\n",
        "    .withColumn('timestamp', current_timestamp()) \\\n",
        "    .withColumn('remote_host', expr(\"concat_ws('.', floor(rand() * 256), floor(rand() * 256), floor(rand() * 256), floor(rand() * 256))\")) \\\n",
        "    .withColumn('request_method', expr(\"CASE WHEN rand() < 0.25 THEN 'GET' WHEN rand() < 0.5 THEN 'POST' WHEN rand() < 0.75 THEN 'PUT' ELSE 'DELETE' END\")) \\\n",
        "    .withColumn('request_endpoint', expr(\"concat('/api/', substring('abcdefghijklmnopqrstuvwxyz0123456789', floor(rand() * 25) + 1, 10))\")) \\\n",
        "    .withColumn('protocol', expr(\"CASE WHEN rand() < 0.5 THEN 'HTTP/1.1' ELSE 'HTTP/2.0' END\")) \\\n",
        "    .withColumn('status_code', expr(\"CASE WHEN rand() < 0.8 THEN 200 WHEN rand() < 0.9 THEN 404 ELSE 500 END\")) \\\n",
        "    .withColumn('content_size', expr(\"floor(rand() * 10000)\"))\n",
        "\n",
        "# Saving the DataFrame as a Parquet file\n",
        "logs_df.write.mode('overwrite').parquet('semi_structured_logs.parquet')\n"
      ]
    },
    {
      "cell_type": "code",
      "execution_count": null,
      "metadata": {
        "colab": {
          "base_uri": "https://localhost:8080/"
        },
        "id": "c00BHIpZe-9e",
        "outputId": "7d11da04-a42a-4f6b-b0e4-160c99f5d5de"
      },
      "outputs": [
        {
          "output_type": "stream",
          "name": "stdout",
          "text": [
            "+---+--------------------------+---------------+--------------+----------------+--------+-----------+------------+\n",
            "|id |timestamp                 |remote_host    |request_method|request_endpoint|protocol|status_code|content_size|\n",
            "+---+--------------------------+---------------+--------------+----------------+--------+-----------+------------+\n",
            "|0  |2024-05-22 23:26:46.296121|209.90.27.188  |GET           |/api/lmnopqrstu |HTTP/2.0|500        |9128        |\n",
            "|1  |2024-05-22 23:26:46.296121|253.74.76.20   |POST          |/api/ijklmnopqr |HTTP/2.0|200        |4981        |\n",
            "|2  |2024-05-22 23:26:46.296121|191.137.126.135|POST          |/api/opqrstuvwx |HTTP/2.0|200        |1848        |\n",
            "|3  |2024-05-22 23:26:46.296121|214.10.186.118 |DELETE        |/api/pqrstuvwxy |HTTP/1.1|200        |6535        |\n",
            "|4  |2024-05-22 23:26:46.296121|57.143.11.191  |PUT           |/api/xyz0123456 |HTTP/2.0|404        |3692        |\n",
            "|5  |2024-05-22 23:26:46.296121|161.45.165.178 |PUT           |/api/vwxyz01234 |HTTP/2.0|200        |8645        |\n",
            "|6  |2024-05-22 23:26:46.296121|193.136.204.244|POST          |/api/jklmnopqrs |HTTP/1.1|404        |2364        |\n",
            "|7  |2024-05-22 23:26:46.296121|28.74.196.40   |PUT           |/api/mnopqrstuv |HTTP/2.0|200        |2682        |\n",
            "|8  |2024-05-22 23:26:46.296121|75.134.253.204 |POST          |/api/bcdefghijk |HTTP/2.0|200        |2301        |\n",
            "|9  |2024-05-22 23:26:46.296121|255.231.70.4   |POST          |/api/vwxyz01234 |HTTP/2.0|200        |8229        |\n",
            "|10 |2024-05-22 23:26:46.296121|233.63.98.142  |GET           |/api/opqrstuvwx |HTTP/1.1|200        |2920        |\n",
            "|11 |2024-05-22 23:26:46.296121|117.85.130.83  |POST          |/api/qrstuvwxyz |HTTP/2.0|200        |4455        |\n",
            "|12 |2024-05-22 23:26:46.296121|208.192.46.250 |PUT           |/api/uvwxyz0123 |HTTP/2.0|200        |8598        |\n",
            "|13 |2024-05-22 23:26:46.296121|50.6.101.126   |PUT           |/api/rstuvwxyz0 |HTTP/2.0|200        |4442        |\n",
            "|14 |2024-05-22 23:26:46.296121|41.114.125.140 |GET           |/api/pqrstuvwxy |HTTP/1.1|404        |2631        |\n",
            "|15 |2024-05-22 23:26:46.296121|224.89.76.80   |GET           |/api/stuvwxyz01 |HTTP/2.0|200        |9379        |\n",
            "|16 |2024-05-22 23:26:46.296121|145.119.115.118|PUT           |/api/lmnopqrstu |HTTP/1.1|200        |4281        |\n",
            "|17 |2024-05-22 23:26:46.296121|122.145.63.119 |POST          |/api/xyz0123456 |HTTP/1.1|200        |6109        |\n",
            "|18 |2024-05-22 23:26:46.296121|123.216.164.232|PUT           |/api/qrstuvwxyz |HTTP/1.1|200        |8629        |\n",
            "|19 |2024-05-22 23:26:46.296121|11.189.233.159 |GET           |/api/xyz0123456 |HTTP/1.1|200        |1354        |\n",
            "|20 |2024-05-22 23:26:46.296121|222.121.138.65 |DELETE        |/api/fghijklmno |HTTP/1.1|200        |7013        |\n",
            "|21 |2024-05-22 23:26:46.296121|119.181.5.251  |GET           |/api/stuvwxyz01 |HTTP/2.0|500        |1631        |\n",
            "|22 |2024-05-22 23:26:46.296121|177.92.209.107 |POST          |/api/ijklmnopqr |HTTP/1.1|200        |4665        |\n",
            "|23 |2024-05-22 23:26:46.296121|242.213.163.71 |POST          |/api/defghijklm |HTTP/2.0|404        |600         |\n",
            "|24 |2024-05-22 23:26:46.296121|39.72.93.137   |GET           |/api/bcdefghijk |HTTP/2.0|200        |8885        |\n",
            "|25 |2024-05-22 23:26:46.296121|18.35.168.46   |GET           |/api/klmnopqrst |HTTP/1.1|200        |8766        |\n",
            "|26 |2024-05-22 23:26:46.296121|201.152.234.160|PUT           |/api/stuvwxyz01 |HTTP/1.1|200        |8624        |\n",
            "|27 |2024-05-22 23:26:46.296121|119.229.47.243 |PUT           |/api/fghijklmno |HTTP/2.0|500        |5402        |\n",
            "|28 |2024-05-22 23:26:46.296121|10.42.151.3    |PUT           |/api/jklmnopqrs |HTTP/1.1|404        |5313        |\n",
            "|29 |2024-05-22 23:26:46.296121|89.180.120.59  |PUT           |/api/ijklmnopqr |HTTP/2.0|404        |1680        |\n",
            "|30 |2024-05-22 23:26:46.296121|67.9.102.182   |PUT           |/api/wxyz012345 |HTTP/2.0|404        |6910        |\n",
            "|31 |2024-05-22 23:26:46.296121|21.232.147.86  |POST          |/api/abcdefghij |HTTP/1.1|200        |9730        |\n",
            "|32 |2024-05-22 23:26:46.296121|41.113.0.181   |PUT           |/api/pqrstuvwxy |HTTP/1.1|200        |5167        |\n",
            "|33 |2024-05-22 23:26:46.296121|142.199.123.6  |POST          |/api/vwxyz01234 |HTTP/1.1|404        |6831        |\n",
            "|34 |2024-05-22 23:26:46.296121|235.208.54.230 |DELETE        |/api/klmnopqrst |HTTP/1.1|200        |5809        |\n",
            "|35 |2024-05-22 23:26:46.296121|194.166.216.64 |GET           |/api/fghijklmno |HTTP/2.0|200        |5110        |\n",
            "|36 |2024-05-22 23:26:46.296121|35.139.3.102   |GET           |/api/stuvwxyz01 |HTTP/1.1|200        |3121        |\n",
            "|37 |2024-05-22 23:26:46.296121|58.145.80.211  |GET           |/api/ghijklmnop |HTTP/1.1|404        |1947        |\n",
            "|38 |2024-05-22 23:26:46.296121|11.229.24.33   |GET           |/api/wxyz012345 |HTTP/2.0|200        |389         |\n",
            "|39 |2024-05-22 23:26:46.296121|146.227.0.230  |PUT           |/api/pqrstuvwxy |HTTP/2.0|200        |5225        |\n",
            "|40 |2024-05-22 23:26:46.296121|200.110.166.6  |GET           |/api/fghijklmno |HTTP/2.0|200        |8391        |\n",
            "|41 |2024-05-22 23:26:46.296121|120.5.226.59   |PUT           |/api/klmnopqrst |HTTP/2.0|404        |3180        |\n",
            "|42 |2024-05-22 23:26:46.296121|0.16.96.2      |POST          |/api/efghijklmn |HTTP/2.0|200        |578         |\n",
            "|43 |2024-05-22 23:26:46.296121|22.29.49.255   |POST          |/api/vwxyz01234 |HTTP/2.0|200        |2216        |\n",
            "|44 |2024-05-22 23:26:46.296121|166.88.170.85  |PUT           |/api/qrstuvwxyz |HTTP/1.1|200        |579         |\n",
            "|45 |2024-05-22 23:26:46.296121|172.180.199.21 |DELETE        |/api/xyz0123456 |HTTP/1.1|200        |8587        |\n",
            "|46 |2024-05-22 23:26:46.296121|248.172.93.87  |POST          |/api/pqrstuvwxy |HTTP/1.1|404        |7594        |\n",
            "|47 |2024-05-22 23:26:46.296121|57.10.139.182  |PUT           |/api/defghijklm |HTTP/2.0|404        |7614        |\n",
            "|48 |2024-05-22 23:26:46.296121|121.9.46.70    |GET           |/api/mnopqrstuv |HTTP/1.1|200        |7872        |\n",
            "|49 |2024-05-22 23:26:46.296121|85.14.243.60   |POST          |/api/klmnopqrst |HTTP/1.1|404        |8134        |\n",
            "+---+--------------------------+---------------+--------------+----------------+--------+-----------+------------+\n",
            "only showing top 50 rows\n",
            "\n"
          ]
        }
      ],
      "source": [
        "# Loading semi-structured logs data\n",
        "logs_df = spark.read.parquet(\"semi_structured_logs.parquet\")\n",
        "\n",
        "# Displaying the DataFrame\n",
        "logs_df.show(50, truncate=False)"
      ]
    },
    {
      "cell_type": "code",
      "execution_count": null,
      "metadata": {
        "colab": {
          "base_uri": "https://localhost:8080/"
        },
        "id": "L50wlf8AfgaA",
        "outputId": "45ebc8c8-b6f0-4f08-ac8d-0bca6345a173"
      },
      "outputs": [
        {
          "output_type": "stream",
          "name": "stdout",
          "text": [
            "+--------------------------+---+----------+\n",
            "|timestamp                 |day|date      |\n",
            "+--------------------------+---+----------+\n",
            "|2024-05-22 23:26:46.296121|143|2024-05-22|\n",
            "|2024-05-22 23:26:46.296121|143|2024-05-22|\n",
            "|2024-05-22 23:26:46.296121|143|2024-05-22|\n",
            "|2024-05-22 23:26:46.296121|143|2024-05-22|\n",
            "|2024-05-22 23:26:46.296121|143|2024-05-22|\n",
            "|2024-05-22 23:26:46.296121|143|2024-05-22|\n",
            "|2024-05-22 23:26:46.296121|143|2024-05-22|\n",
            "|2024-05-22 23:26:46.296121|143|2024-05-22|\n",
            "|2024-05-22 23:26:46.296121|143|2024-05-22|\n",
            "|2024-05-22 23:26:46.296121|143|2024-05-22|\n",
            "+--------------------------+---+----------+\n",
            "only showing top 10 rows\n",
            "\n"
          ]
        }
      ],
      "source": [
        "# Converting and extracting timestamp information\n",
        "logs_df = logs_df.withColumn('timestamp', to_timestamp('timestamp'))\n",
        "logs_df = logs_df.withColumn('day', dayofyear('timestamp'))\n",
        "logs_df = logs_df.withColumn('date', date_format('timestamp', 'yyyy-MM-dd'))\n",
        "logs_df.select('timestamp', 'day', 'date').show(10, truncate=False)"
      ]
    },
    {
      "cell_type": "code",
      "execution_count": null,
      "metadata": {
        "colab": {
          "base_uri": "https://localhost:8080/"
        },
        "id": "ywGGvrywf0_9",
        "outputId": "5721f4d1-7b8c-44df-fcc1-e05f9252da03"
      },
      "outputs": [
        {
          "output_type": "stream",
          "name": "stdout",
          "text": [
            "+----------------+-----+\n",
            "|request_endpoint|count|\n",
            "+----------------+-----+\n",
            "| /api/yz01234567|40290|\n",
            "| /api/mnopqrstuv|40207|\n",
            "| /api/uvwxyz0123|40186|\n",
            "| /api/lmnopqrstu|40184|\n",
            "| /api/abcdefghij|40162|\n",
            "| /api/defghijklm|40138|\n",
            "| /api/opqrstuvwx|40108|\n",
            "| /api/vwxyz01234|40092|\n",
            "| /api/qrstuvwxyz|40085|\n",
            "| /api/cdefghijkl|40081|\n",
            "+----------------+-----+\n",
            "only showing top 10 rows\n",
            "\n"
          ]
        }
      ],
      "source": [
        "# Calculating statistics related to content size\n",
        "# Top endpoints content\n",
        "top_endpoints = logs_df.groupBy(\"request_endpoint\").count().orderBy(\"count\", ascending=False)\n",
        "top_endpoints.show(10)"
      ]
    },
    {
      "cell_type": "code",
      "execution_count": null,
      "metadata": {
        "colab": {
          "base_uri": "https://localhost:8080/"
        },
        "id": "mFfSvTjXf3zB",
        "outputId": "bf955263-b312-48e4-d57a-e4433225719c"
      },
      "outputs": [
        {
          "output_type": "stream",
          "name": "stdout",
          "text": [
            "+----------------+------------------+\n",
            "|request_endpoint|total_content_size|\n",
            "+----------------+------------------+\n",
            "| /api/yz01234567|         202089420|\n",
            "| /api/uvwxyz0123|         201605100|\n",
            "| /api/abcdefghij|         201210681|\n",
            "| /api/xyz0123456|         200683018|\n",
            "| /api/defghijklm|         200682981|\n",
            "| /api/cdefghijkl|         200632905|\n",
            "| /api/opqrstuvwx|         200542859|\n",
            "| /api/lmnopqrstu|         200385632|\n",
            "| /api/mnopqrstuv|         200348891|\n",
            "| /api/qrstuvwxyz|         200214378|\n",
            "+----------------+------------------+\n",
            "only showing top 10 rows\n",
            "\n"
          ]
        }
      ],
      "source": [
        "# Top endpoints transferring maximum content\n",
        "top_endpoints_by_content = logs_df.groupBy(\"request_endpoint\").sum(\"content_size\") \\\n",
        "    .orderBy(desc(\"sum(content_size)\")).withColumnRenamed(\"sum(content_size)\", \"total_content_size\")\n",
        "top_endpoints_by_content.show(10)"
      ]
    },
    {
      "cell_type": "code",
      "execution_count": null,
      "metadata": {
        "colab": {
          "base_uri": "https://localhost:8080/"
        },
        "id": "C7jzHC-Xf-a2",
        "outputId": "5af606f7-59b9-4fa8-b317-da04a67a4b0e"
      },
      "outputs": [
        {
          "output_type": "stream",
          "name": "stdout",
          "text": [
            "+----------+------------------+\n",
            "|      date|daily_content_size|\n",
            "+----------+------------------+\n",
            "|2024-05-22|        4999257546|\n",
            "+----------+------------------+\n",
            "\n"
          ]
        }
      ],
      "source": [
        "# Daily visited content size\n",
        "daily_content_size = logs_df.withColumn(\"date\", to_date(col(\"timestamp\"))).groupBy(\"date\").agg(sum(\"content_size\").alias(\"daily_content_size\")).orderBy(\"date\")\n",
        "daily_content_size.show()"
      ]
    },
    {
      "cell_type": "code",
      "execution_count": null,
      "metadata": {
        "colab": {
          "base_uri": "https://localhost:8080/"
        },
        "id": "rfrGpq6-gDxf",
        "outputId": "62bf1655-4948-4f0d-b5d6-92092c158cca"
      },
      "outputs": [
        {
          "output_type": "stream",
          "name": "stdout",
          "text": [
            "+--------+--------+----------+\n",
            "|min_size|max_size|count_size|\n",
            "+--------+--------+----------+\n",
            "|       0|    9999|   1000000|\n",
            "+--------+--------+----------+\n",
            "\n"
          ]
        }
      ],
      "source": [
        "# Min, Max and Count of content size\n",
        "content_size_stats = logs_df.agg(min('content_size').alias('min_size'), max('content_size').alias('max_size'), count('content_size').alias('count_size'))\n",
        "content_size_stats.show()"
      ]
    },
    {
      "cell_type": "code",
      "execution_count": null,
      "metadata": {
        "colab": {
          "base_uri": "https://localhost:8080/"
        },
        "id": "N77CpuHAgMy_",
        "outputId": "c0b6e5e7-7904-4e51-a0c6-a884261b086c"
      },
      "outputs": [
        {
          "output_type": "stream",
          "name": "stdout",
          "text": [
            "+-----------+------+\n",
            "|status_code| count|\n",
            "+-----------+------+\n",
            "|        200|799942|\n",
            "|        404|180219|\n",
            "|        500| 19839|\n",
            "+-----------+------+\n",
            "\n"
          ]
        }
      ],
      "source": [
        "# Response Code Analysis\n",
        "response_code_analysis = logs_df.groupBy('status_code').count().orderBy('count', ascending=False)\n",
        "response_code_analysis.show()"
      ]
    },
    {
      "cell_type": "code",
      "execution_count": null,
      "metadata": {
        "colab": {
          "base_uri": "https://localhost:8080/"
        },
        "id": "G_UP_E7jgVXC",
        "outputId": "54120f68-2a25-4b68-cc62-45441228c86e"
      },
      "outputs": [
        {
          "output_type": "stream",
          "name": "stdout",
          "text": [
            "+---------------+-----+\n",
            "|    remote_host|count|\n",
            "+---------------+-----+\n",
            "| 100.178.210.52|    2|\n",
            "|  196.187.29.40|    2|\n",
            "|  86.74.213.236|    2|\n",
            "|235.205.182.224|    2|\n",
            "|166.180.218.170|    2|\n",
            "|   211.3.27.154|    2|\n",
            "|  58.210.249.35|    2|\n",
            "|106.133.195.108|    2|\n",
            "|  142.85.90.107|    2|\n",
            "| 114.87.122.139|    2|\n",
            "+---------------+-----+\n",
            "only showing top 10 rows\n",
            "\n"
          ]
        }
      ],
      "source": [
        "# Frequent Visitors\n",
        "frequent_visitors = logs_df.groupBy(\"remote_host\").count().filter(col(\"count\") >= 1).orderBy(\"count\", ascending=False)\n",
        "frequent_visitors.show(10)"
      ]
    },
    {
      "cell_type": "code",
      "execution_count": null,
      "metadata": {
        "colab": {
          "base_uri": "https://localhost:8080/"
        },
        "id": "-2DS-d2ygbDR",
        "outputId": "70f6518d-527a-4879-f24c-f3cba1802e93"
      },
      "outputs": [
        {
          "output_type": "stream",
          "name": "stdout",
          "text": [
            "+-----------+------------+\n",
            "|remote_host|access_count|\n",
            "+-----------+------------+\n",
            "+-----------+------------+\n",
            "\n"
          ]
        }
      ],
      "source": [
        "# Identifying IP addresses accessing the server more than 10 times\n",
        "frequent_ip_addresses = logs_df.groupBy('remote_host').agg(count('*').alias('access_count')).filter('access_count > 10').orderBy(desc('access_count'))\n",
        "frequent_ip_addresses.show()"
      ]
    },
    {
      "cell_type": "code",
      "execution_count": null,
      "metadata": {
        "colab": {
          "base_uri": "https://localhost:8080/"
        },
        "id": "jzF9tu5Vu8Z3",
        "outputId": "ed566690-967c-4359-9e79-607722451fee"
      },
      "outputs": [
        {
          "output_type": "stream",
          "name": "stdout",
          "text": [
            "+--------------------------+----------------+\n",
            "|timestamp                 |request_endpoint|\n",
            "+--------------------------+----------------+\n",
            "|2024-05-22 23:26:46.296121|/api/mnopqrstuv |\n",
            "|2024-05-22 23:26:46.296121|/api/xyz0123456 |\n",
            "|2024-05-22 23:26:46.296121|/api/vwxyz01234 |\n",
            "|2024-05-22 23:26:46.296121|/api/jklmnopqrs |\n",
            "|2024-05-22 23:26:46.296121|/api/yz01234567 |\n",
            "|2024-05-22 23:26:46.296121|/api/pqrstuvwxy |\n",
            "|2024-05-22 23:26:46.296121|/api/opqrstuvwx |\n",
            "|2024-05-22 23:26:46.296121|/api/defghijklm |\n",
            "|2024-05-22 23:26:46.296121|/api/rstuvwxyz0 |\n",
            "|2024-05-22 23:26:46.296121|/api/jklmnopqrs |\n",
            "+--------------------------+----------------+\n",
            "\n"
          ]
        }
      ],
      "source": [
        "# Analyzing bad requests including the top 10 latest 404 requests with their endpoints and time\n",
        "latest_404_requests = logs_df.filter(col(\"status_code\") == 404).orderBy(col(\"timestamp\"),\\\n",
        "                       ascending=False).select(\"timestamp\", \"request_endpoint\").limit(10)\n",
        "latest_404_requests.show(truncate=False)"
      ]
    },
    {
      "cell_type": "code",
      "execution_count": null,
      "metadata": {
        "colab": {
          "base_uri": "https://localhost:8080/"
        },
        "id": "6FsBLxG6xAWr",
        "outputId": "8849bd20-0391-4f1c-e310-f3d69ac628df"
      },
      "outputs": [
        {
          "output_type": "stream",
          "name": "stdout",
          "text": [
            "Successful Requests: 79.99%\n",
            "Error Requests: 20.01%\n",
            "Anomaly: Low success rate detected\n"
          ]
        }
      ],
      "source": [
        "# Calculating percentage of successful requests\n",
        "total_requests = logs_df.count()\n",
        "successful_requests = logs_df.filter(col(\"status_code\") == 200).count()\n",
        "error_requests = total_requests - successful_requests\n",
        "\n",
        "# Calculating success and error percentages\n",
        "success_percentage = (successful_requests / total_requests) * 100\n",
        "error_percentage = 100 - success_percentage\n",
        "\n",
        "# Defining thresholds for anomaly detection\n",
        "success_threshold = 95  # Threshold for successful requests percentage\n",
        "error_threshold = 5  # Threshold for error requests percentage\n",
        "\n",
        "# Transformation for anomaly detection\n",
        "def detect_anomalies(success_percentage, error_percentage):\n",
        "    if success_percentage < success_threshold:\n",
        "        return \"Anomaly: Low success rate detected\"\n",
        "    elif error_percentage > error_threshold:\n",
        "        return \"Anomaly: High error rate detected\"\n",
        "    else:\n",
        "        return \"No anomalies detected\"\n",
        "\n",
        "# Applying transformation to detect anomalies\n",
        "anomaly_detection_result = detect_anomalies(success_percentage, error_percentage)\n",
        "\n",
        "# Printing analysis results and anomaly detection\n",
        "print(f\"Successful Requests: {success_percentage:.2f}%\")\n",
        "print(f\"Error Requests: {error_percentage:.2f}%\")\n",
        "print(anomaly_detection_result)"
      ]
    }
  ],
  "metadata": {
    "colab": {
      "provenance": [],
      "authorship_tag": "ABX9TyMLJE3VysQjdU7SSVDFwYXk",
      "include_colab_link": true
    },
    "kernelspec": {
      "display_name": "Python 3",
      "name": "python3"
    },
    "language_info": {
      "name": "python"
    }
  },
  "nbformat": 4,
  "nbformat_minor": 0
}