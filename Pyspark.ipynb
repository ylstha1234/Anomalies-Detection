{
  "nbformat": 4,
  "nbformat_minor": 0,
  "metadata": {
    "colab": {
      "provenance": []
    },
    "kernelspec": {
      "name": "python3",
      "display_name": "Python 3"
    },
    "language_info": {
      "name": "python"
    }
  },
  "cells": [
    {
      "cell_type": "code",
      "execution_count": 29,
      "metadata": {
        "colab": {
          "base_uri": "https://localhost:8080/"
        },
        "id": "2ygAwHu7Y3yP",
        "outputId": "860e1ccd-ffca-484a-e439-3004027a6238"
      },
      "outputs": [
        {
          "output_type": "stream",
          "name": "stdout",
          "text": [
            "Requirement already satisfied: pyspark in /usr/local/lib/python3.10/dist-packages (3.5.1)\n",
            "Requirement already satisfied: py4j==0.10.9.7 in /usr/local/lib/python3.10/dist-packages (from pyspark) (0.10.9.7)\n"
          ]
        }
      ],
      "source": [
        "!pip install pyspark"
      ]
    },
    {
      "cell_type": "code",
      "source": [
        "from pyspark.sql import SparkSession\n",
        "from pyspark.sql.functions import col, current_timestamp, date_format, rand, expr\n",
        "from pyspark.sql.functions import to_timestamp, dayofyear, date_format, sum, min, max, count, desc\n",
        "from pyspark.sql.functions import to_date, col\n",
        "\n",
        "# Initializing Spark session\n",
        "spark = SparkSession.builder \\\n",
        "    .appName(\"Generate Semi-Structured Logs\") \\\n",
        "    .getOrCreate()\n",
        "\n",
        "# Generating semi-structured log data\n",
        "num_logs = 1000000\n",
        "\n",
        "logs_df = spark.range(0, num_logs) \\\n",
        "    .withColumn('timestamp', current_timestamp()) \\\n",
        "    .withColumn('remote_host', expr(\"concat_ws('.', floor(rand() * 256), floor(rand() * 256), floor(rand() * 256), floor(rand() * 256))\")) \\\n",
        "    .withColumn('request_method', expr(\"CASE WHEN rand() < 0.25 THEN 'GET' WHEN rand() < 0.5 THEN 'POST' WHEN rand() < 0.75 THEN 'PUT' ELSE 'DELETE' END\")) \\\n",
        "    .withColumn('request_endpoint', expr(\"concat('/api/', substring('abcdefghijklmnopqrstuvwxyz0123456789', floor(rand() * 25) + 1, 10))\")) \\\n",
        "    .withColumn('protocol', expr(\"CASE WHEN rand() < 0.5 THEN 'HTTP/1.1' ELSE 'HTTP/2.0' END\")) \\\n",
        "    .withColumn('status_code', expr(\"CASE WHEN rand() < 0.8 THEN 200 WHEN rand() < 0.9 THEN 404 ELSE 500 END\")) \\\n",
        "    .withColumn('content_size', expr(\"floor(rand() * 10000)\"))\n",
        "\n",
        "# Saving the DataFrame as a Parquet file\n",
        "logs_df.write.mode('overwrite').parquet('semi_structured_logs.parquet')\n"
      ],
      "metadata": {
        "id": "WCJB0ASvew5_"
      },
      "execution_count": 30,
      "outputs": []
    },
    {
      "cell_type": "code",
      "source": [
        "# Loading semi-structured logs data\n",
        "logs_df = spark.read.parquet(\"semi_structured_logs.parquet\")\n",
        "\n",
        "# Displaying the DataFrame\n",
        "logs_df.show(10, truncate=False)"
      ],
      "metadata": {
        "colab": {
          "base_uri": "https://localhost:8080/"
        },
        "id": "c00BHIpZe-9e",
        "outputId": "a42d18f0-d6c7-4033-9f9e-425714fed2c0"
      },
      "execution_count": 31,
      "outputs": [
        {
          "output_type": "stream",
          "name": "stdout",
          "text": [
            "+---+--------------------------+---------------+--------------+----------------+--------+-----------+------------+\n",
            "|id |timestamp                 |remote_host    |request_method|request_endpoint|protocol|status_code|content_size|\n",
            "+---+--------------------------+---------------+--------------+----------------+--------+-----------+------------+\n",
            "|0  |2024-05-22 17:39:42.278127|178.185.210.79 |GET           |/api/jklmnopqrs |HTTP/2.0|200        |3645        |\n",
            "|1  |2024-05-22 17:39:42.278127|19.77.85.16    |GET           |/api/rstuvwxyz0 |HTTP/2.0|500        |4510        |\n",
            "|2  |2024-05-22 17:39:42.278127|119.87.76.235  |PUT           |/api/klmnopqrst |HTTP/1.1|200        |9292        |\n",
            "|3  |2024-05-22 17:39:42.278127|127.189.105.109|PUT           |/api/uvwxyz0123 |HTTP/2.0|200        |4612        |\n",
            "|4  |2024-05-22 17:39:42.278127|42.8.51.108    |POST          |/api/stuvwxyz01 |HTTP/1.1|200        |4082        |\n",
            "|5  |2024-05-22 17:39:42.278127|32.73.75.122   |PUT           |/api/fghijklmno |HTTP/1.1|200        |2536        |\n",
            "|6  |2024-05-22 17:39:42.278127|64.61.41.231   |POST          |/api/tuvwxyz012 |HTTP/2.0|200        |1466        |\n",
            "|7  |2024-05-22 17:39:42.278127|14.21.115.19   |POST          |/api/rstuvwxyz0 |HTTP/2.0|404        |8941        |\n",
            "|8  |2024-05-22 17:39:42.278127|169.32.137.33  |PUT           |/api/ijklmnopqr |HTTP/1.1|200        |9231        |\n",
            "|9  |2024-05-22 17:39:42.278127|169.42.170.4   |PUT           |/api/opqrstuvwx |HTTP/1.1|200        |2183        |\n",
            "+---+--------------------------+---------------+--------------+----------------+--------+-----------+------------+\n",
            "only showing top 10 rows\n",
            "\n"
          ]
        }
      ]
    },
    {
      "cell_type": "code",
      "source": [
        "# Converting and extracting timestamp information\n",
        "logs_df = logs_df.withColumn('timestamp', to_timestamp('timestamp'))\n",
        "logs_df = logs_df.withColumn('day', dayofyear('timestamp'))\n",
        "logs_df = logs_df.withColumn('date', date_format('timestamp', 'yyyy-MM-dd'))\n",
        "logs_df.select('timestamp', 'day', 'date').show(10, truncate=False)"
      ],
      "metadata": {
        "colab": {
          "base_uri": "https://localhost:8080/"
        },
        "id": "L50wlf8AfgaA",
        "outputId": "b11beeae-4bb2-4a83-8fb3-b2fc8ffd41c3"
      },
      "execution_count": 32,
      "outputs": [
        {
          "output_type": "stream",
          "name": "stdout",
          "text": [
            "+--------------------------+---+----------+\n",
            "|timestamp                 |day|date      |\n",
            "+--------------------------+---+----------+\n",
            "|2024-05-22 17:39:42.278127|143|2024-05-22|\n",
            "|2024-05-22 17:39:42.278127|143|2024-05-22|\n",
            "|2024-05-22 17:39:42.278127|143|2024-05-22|\n",
            "|2024-05-22 17:39:42.278127|143|2024-05-22|\n",
            "|2024-05-22 17:39:42.278127|143|2024-05-22|\n",
            "|2024-05-22 17:39:42.278127|143|2024-05-22|\n",
            "|2024-05-22 17:39:42.278127|143|2024-05-22|\n",
            "|2024-05-22 17:39:42.278127|143|2024-05-22|\n",
            "|2024-05-22 17:39:42.278127|143|2024-05-22|\n",
            "|2024-05-22 17:39:42.278127|143|2024-05-22|\n",
            "+--------------------------+---+----------+\n",
            "only showing top 10 rows\n",
            "\n"
          ]
        }
      ]
    },
    {
      "cell_type": "code",
      "source": [
        "# Calculating statistics related to content size\n",
        "# Top endpoints content\n",
        "top_endpoints = logs_df.groupBy(\"request_endpoint\").count().orderBy(\"count\", ascending=False)\n",
        "top_endpoints.show(10)"
      ],
      "metadata": {
        "colab": {
          "base_uri": "https://localhost:8080/"
        },
        "id": "ywGGvrywf0_9",
        "outputId": "58373435-add4-4ead-87e7-ec2dfc1f36c9"
      },
      "execution_count": 33,
      "outputs": [
        {
          "output_type": "stream",
          "name": "stdout",
          "text": [
            "+----------------+-----+\n",
            "|request_endpoint|count|\n",
            "+----------------+-----+\n",
            "| /api/lmnopqrstu|40334|\n",
            "| /api/pqrstuvwxy|40296|\n",
            "| /api/mnopqrstuv|40227|\n",
            "| /api/vwxyz01234|40191|\n",
            "| /api/bcdefghijk|40188|\n",
            "| /api/xyz0123456|40153|\n",
            "| /api/efghijklmn|40137|\n",
            "| /api/defghijklm|40128|\n",
            "| /api/qrstuvwxyz|40099|\n",
            "| /api/opqrstuvwx|40094|\n",
            "+----------------+-----+\n",
            "only showing top 10 rows\n",
            "\n"
          ]
        }
      ]
    },
    {
      "cell_type": "code",
      "source": [
        "# Top endpoints transferring maximum content\n",
        "top_endpoints_by_content = logs_df.groupBy(\"request_endpoint\").sum(\"content_size\") \\\n",
        "    .orderBy(desc(\"sum(content_size)\")).withColumnRenamed(\"sum(content_size)\", \"total_content_size\")\n",
        "top_endpoints_by_content.show(10)"
      ],
      "metadata": {
        "colab": {
          "base_uri": "https://localhost:8080/"
        },
        "id": "mFfSvTjXf3zB",
        "outputId": "e8333c7c-a727-4424-a7ca-e6774b969177"
      },
      "execution_count": 34,
      "outputs": [
        {
          "output_type": "stream",
          "name": "stdout",
          "text": [
            "+----------------+------------------+\n",
            "|request_endpoint|total_content_size|\n",
            "+----------------+------------------+\n",
            "| /api/efghijklmn|         201948829|\n",
            "| /api/pqrstuvwxy|         201722927|\n",
            "| /api/bcdefghijk|         201714371|\n",
            "| /api/lmnopqrstu|         201379009|\n",
            "| /api/xyz0123456|         200792321|\n",
            "| /api/defghijklm|         200688391|\n",
            "| /api/abcdefghij|         200579581|\n",
            "| /api/vwxyz01234|         200535832|\n",
            "| /api/rstuvwxyz0|         200525906|\n",
            "| /api/hijklmnopq|         200360306|\n",
            "+----------------+------------------+\n",
            "only showing top 10 rows\n",
            "\n"
          ]
        }
      ]
    },
    {
      "cell_type": "code",
      "source": [
        "# Daily visited content size\n",
        "daily_content_size = logs_df.withColumn(\"date\", to_date(col(\"timestamp\"))).groupBy(\"date\").agg(sum(\"content_size\").alias(\"daily_content_size\")).orderBy(\"date\")\n",
        "daily_content_size.show()"
      ],
      "metadata": {
        "colab": {
          "base_uri": "https://localhost:8080/"
        },
        "id": "C7jzHC-Xf-a2",
        "outputId": "866c8062-e4c9-4944-963f-f02c9fc0a7be"
      },
      "execution_count": 35,
      "outputs": [
        {
          "output_type": "stream",
          "name": "stdout",
          "text": [
            "+----------+------------------+\n",
            "|      date|daily_content_size|\n",
            "+----------+------------------+\n",
            "|2024-05-22|        4996097166|\n",
            "+----------+------------------+\n",
            "\n"
          ]
        }
      ]
    },
    {
      "cell_type": "code",
      "source": [
        "# Min, Max and Count of content size\n",
        "content_size_stats = logs_df.agg(min('content_size').alias('min_size'), max('content_size').alias('max_size'), count('content_size').alias('count_size'))\n",
        "content_size_stats.show()"
      ],
      "metadata": {
        "colab": {
          "base_uri": "https://localhost:8080/"
        },
        "id": "rfrGpq6-gDxf",
        "outputId": "e3b029cf-99d5-477e-a0b3-c8b30e51df94"
      },
      "execution_count": 36,
      "outputs": [
        {
          "output_type": "stream",
          "name": "stdout",
          "text": [
            "+--------+--------+----------+\n",
            "|min_size|max_size|count_size|\n",
            "+--------+--------+----------+\n",
            "|       0|    9999|   1000000|\n",
            "+--------+--------+----------+\n",
            "\n"
          ]
        }
      ]
    },
    {
      "cell_type": "code",
      "source": [
        "# Response Code Analysis\n",
        "response_code_analysis = logs_df.groupBy('status_code').count().orderBy('count', ascending=False)\n",
        "response_code_analysis.show()"
      ],
      "metadata": {
        "colab": {
          "base_uri": "https://localhost:8080/"
        },
        "id": "N77CpuHAgMy_",
        "outputId": "dd78ec28-cded-4d41-dc51-960b0e3aed35"
      },
      "execution_count": 37,
      "outputs": [
        {
          "output_type": "stream",
          "name": "stdout",
          "text": [
            "+-----------+------+\n",
            "|status_code| count|\n",
            "+-----------+------+\n",
            "|        200|800661|\n",
            "|        404|179381|\n",
            "|        500| 19958|\n",
            "+-----------+------+\n",
            "\n"
          ]
        }
      ]
    },
    {
      "cell_type": "code",
      "source": [
        "# Frequent Visitors\n",
        "frequent_visitors = logs_df.groupBy(\"remote_host\").count().filter(col(\"count\") >= 1).orderBy(\"count\", ascending=False)\n",
        "frequent_visitors.show(10)"
      ],
      "metadata": {
        "colab": {
          "base_uri": "https://localhost:8080/"
        },
        "id": "G_UP_E7jgVXC",
        "outputId": "65afb371-742e-43a0-a670-6815272928fd"
      },
      "execution_count": 38,
      "outputs": [
        {
          "output_type": "stream",
          "name": "stdout",
          "text": [
            "+---------------+-----+\n",
            "|    remote_host|count|\n",
            "+---------------+-----+\n",
            "| 246.247.69.141|    2|\n",
            "|170.156.228.209|    2|\n",
            "|   99.29.37.121|    2|\n",
            "| 99.176.129.220|    2|\n",
            "| 165.116.58.114|    2|\n",
            "|   147.86.4.122|    2|\n",
            "| 158.68.230.167|    2|\n",
            "| 145.251.215.38|    2|\n",
            "|  229.163.61.43|    2|\n",
            "|188.171.225.195|    2|\n",
            "+---------------+-----+\n",
            "only showing top 10 rows\n",
            "\n"
          ]
        }
      ]
    },
    {
      "cell_type": "code",
      "source": [
        "# Identifying IP addresses accessing the server more than 10 times\n",
        "frequent_ip_addresses = logs_df.groupBy('remote_host').agg(count('*').alias('access_count')).filter('access_count > 10').orderBy(desc('access_count'))\n",
        "frequent_ip_addresses.show()"
      ],
      "metadata": {
        "colab": {
          "base_uri": "https://localhost:8080/"
        },
        "id": "-2DS-d2ygbDR",
        "outputId": "2f496325-3d0c-47a2-e6b8-e12e95f13b6b"
      },
      "execution_count": 39,
      "outputs": [
        {
          "output_type": "stream",
          "name": "stdout",
          "text": [
            "+-----------+------------+\n",
            "|remote_host|access_count|\n",
            "+-----------+------------+\n",
            "+-----------+------------+\n",
            "\n"
          ]
        }
      ]
    },
    {
      "cell_type": "code",
      "source": [
        "# Analyzing bad requests including the top 10 latest 404 requests with their endpoints and time\n",
        "latest_404_requests = logs_df.filter(col(\"status_code\") == 404).orderBy(col(\"timestamp\"),\\\n",
        "                       ascending=False).select(\"timestamp\", \"request_endpoint\").limit(10)\n",
        "latest_404_requests.show(truncate=False)"
      ],
      "metadata": {
        "colab": {
          "base_uri": "https://localhost:8080/"
        },
        "id": "jzF9tu5Vu8Z3",
        "outputId": "e914863a-0d38-46f8-a729-3ca7359e2169"
      },
      "execution_count": 40,
      "outputs": [
        {
          "output_type": "stream",
          "name": "stdout",
          "text": [
            "+--------------------------+----------------+\n",
            "|timestamp                 |request_endpoint|\n",
            "+--------------------------+----------------+\n",
            "|2024-05-22 17:39:42.278127|/api/rstuvwxyz0 |\n",
            "|2024-05-22 17:39:42.278127|/api/opqrstuvwx |\n",
            "|2024-05-22 17:39:42.278127|/api/mnopqrstuv |\n",
            "|2024-05-22 17:39:42.278127|/api/opqrstuvwx |\n",
            "|2024-05-22 17:39:42.278127|/api/vwxyz01234 |\n",
            "|2024-05-22 17:39:42.278127|/api/efghijklmn |\n",
            "|2024-05-22 17:39:42.278127|/api/klmnopqrst |\n",
            "|2024-05-22 17:39:42.278127|/api/ijklmnopqr |\n",
            "|2024-05-22 17:39:42.278127|/api/mnopqrstuv |\n",
            "|2024-05-22 17:39:42.278127|/api/mnopqrstuv |\n",
            "+--------------------------+----------------+\n",
            "\n"
          ]
        }
      ]
    },
    {
      "cell_type": "code",
      "source": [
        "# Calculating percentage of successful requests\n",
        "total_requests = logs_df.count()\n",
        "successful_requests = logs_df.filter(col(\"status_code\") == 200).count()\n",
        "error_requests = total_requests - successful_requests\n",
        "\n",
        "# Calculating success and error percentages\n",
        "success_percentage = (successful_requests / total_requests) * 100\n",
        "error_percentage = 100 - success_percentage\n",
        "\n",
        "# Defining thresholds for anomaly detection\n",
        "success_threshold = 95  # Threshold for successful requests percentage\n",
        "error_threshold = 5  # Threshold for error requests percentage\n",
        "\n",
        "# Transformation for anomaly detection\n",
        "def detect_anomalies(success_percentage, error_percentage):\n",
        "    if success_percentage < success_threshold:\n",
        "        return \"Anomaly: Low success rate detected\"\n",
        "    elif error_percentage > error_threshold:\n",
        "        return \"Anomaly: High error rate detected\"\n",
        "    else:\n",
        "        return \"No anomalies detected\"\n",
        "\n",
        "# Applying transformation to detect anomalies\n",
        "anomaly_detection_result = detect_anomalies(success_percentage, error_percentage)\n",
        "\n",
        "# Printing analysis results and anomaly detection\n",
        "print(f\"Successful Requests: {success_percentage:.2f}%\")\n",
        "print(f\"Error Requests: {error_percentage:.2f}%\")\n",
        "print(anomaly_detection_result)"
      ],
      "metadata": {
        "colab": {
          "base_uri": "https://localhost:8080/"
        },
        "id": "6FsBLxG6xAWr",
        "outputId": "ad4a142c-438b-4de0-ee2e-b7af327f55ef"
      },
      "execution_count": 41,
      "outputs": [
        {
          "output_type": "stream",
          "name": "stdout",
          "text": [
            "Successful Requests: 80.07%\n",
            "Error Requests: 19.93%\n",
            "Anomaly: Low success rate detected\n"
          ]
        }
      ]
    }
  ]
}